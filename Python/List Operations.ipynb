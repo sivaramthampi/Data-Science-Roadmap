{
 "cells": [
  {
   "cell_type": "markdown",
   "id": "797ea09b-7458-4c05-b17e-bc654439f778",
   "metadata": {},
   "source": [
    "## List Operations"
   ]
  },
  {
   "cell_type": "markdown",
   "id": "500df6ef-e9fa-4d7d-aea6-f113f25a2774",
   "metadata": {},
   "source": [
    "### Basic List Operations"
   ]
  },
  {
   "cell_type": "markdown",
   "id": "6b52fb89-e742-4ad5-aa21-d12352137c40",
   "metadata": {},
   "source": [
    "#### --> Creating a list"
   ]
  },
  {
   "cell_type": "code",
   "execution_count": 2,
   "id": "5e33551b-fd6d-43f0-a608-1cb01a9bbb8f",
   "metadata": {},
   "outputs": [
    {
     "name": "stdout",
     "output_type": "stream",
     "text": [
      "[1, 2, 3, 4, 5]\n"
     ]
    }
   ],
   "source": [
    "\n",
    "my_list = [1, 2, 3, 4, 5]\n",
    "print(my_list)"
   ]
  },
  {
   "cell_type": "markdown",
   "id": "c588c7be-72b5-485f-ba15-6e2a49805d6c",
   "metadata": {},
   "source": [
    "#### --> Accesing Elements"
   ]
  },
  {
   "cell_type": "code",
   "execution_count": 5,
   "id": "b055c3f4-4d6c-46d4-88a5-03f532b77f00",
   "metadata": {},
   "outputs": [
    {
     "name": "stdout",
     "output_type": "stream",
     "text": [
      "1\n",
      "2\n",
      "3\n",
      "4\n",
      "5\n",
      "6\n"
     ]
    }
   ],
   "source": [
    "a = [1, 2, 3, 4, 5, 6]\n",
    "print(a[0])\n",
    "print(a[1])\n",
    "print(a[2])\n",
    "print(a[3])\n",
    "print(a[4])\n",
    "print(a[5])"
   ]
  },
  {
   "cell_type": "markdown",
   "id": "f3e1f914-975d-4ec8-82da-26604b3ea35a",
   "metadata": {},
   "source": [
    "#### --> Slicing"
   ]
  },
  {
   "cell_type": "code",
   "execution_count": 7,
   "id": "4df3dfd0-f884-4a3d-9d77-556a3728571c",
   "metadata": {},
   "outputs": [
    {
     "name": "stdout",
     "output_type": "stream",
     "text": [
      "[2, 3, 4]\n"
     ]
    }
   ],
   "source": [
    "a = [1,2,3,4,5,6,7]\n",
    "sub_list = a[1:4]\n",
    "print(sub_list)"
   ]
  },
  {
   "cell_type": "markdown",
   "id": "1f56acd2-e5f3-4aa2-a3ea-a490f03a456c",
   "metadata": {},
   "source": [
    "#### --> Appending Elements"
   ]
  },
  {
   "cell_type": "code",
   "execution_count": 8,
   "id": "3e11c636-b582-43b8-b566-8df272a13728",
   "metadata": {},
   "outputs": [
    {
     "name": "stdout",
     "output_type": "stream",
     "text": [
      "[1, 2, 3, 4, 5, 6, 7, 8]\n"
     ]
    }
   ],
   "source": [
    "a = [1, 2, 3, 4, 5, 6, 7]\n",
    "a.append(8)\n",
    "print(a)"
   ]
  },
  {
   "cell_type": "markdown",
   "id": "55f100f1-6679-4881-8b24-b54b669302b1",
   "metadata": {},
   "source": [
    "#### --> Inserting Elements"
   ]
  },
  {
   "cell_type": "code",
   "execution_count": 9,
   "id": "375bd1ea-6ce8-4ed5-8ca4-b5fab09486e5",
   "metadata": {},
   "outputs": [
    {
     "name": "stdout",
     "output_type": "stream",
     "text": [
      "[1, 2, 'a', 3, 4, 5]\n"
     ]
    }
   ],
   "source": [
    "a = [1, 2, 3, 4, 5]\n",
    "a.insert(2, 'a')\n",
    "print(a)"
   ]
  },
  {
   "cell_type": "markdown",
   "id": "57fb86c9-613a-4d7f-8514-d4e6b04ddea5",
   "metadata": {},
   "source": [
    "#### --> Removing Elements"
   ]
  },
  {
   "cell_type": "code",
   "execution_count": 14,
   "id": "d69915a2-d533-4cba-817b-1c9219fc5be7",
   "metadata": {},
   "outputs": [
    {
     "name": "stdout",
     "output_type": "stream",
     "text": [
      "[1, 2, 3, 4, 5, 7]\n"
     ]
    }
   ],
   "source": [
    "a = [1,2,3,4,5,'a',7]\n",
    "a.remove('a')\n",
    "print(a)"
   ]
  },
  {
   "cell_type": "markdown",
   "id": "67e7f74d-d4a2-4483-a407-ae2dd934060f",
   "metadata": {},
   "source": [
    "#### --> Popping Elements"
   ]
  },
  {
   "cell_type": "code",
   "execution_count": 17,
   "id": "c09392af-f78a-4008-8b21-2df34c6383fd",
   "metadata": {},
   "outputs": [
    {
     "name": "stdout",
     "output_type": "stream",
     "text": [
      "Popout the last item in the list = 7\n",
      "Popout the 4th item in the list = 4\n"
     ]
    }
   ],
   "source": [
    "a = [1,2,3,4,5,6,7]\n",
    "print(\"Popout the last item in the list =\",a.pop())\n",
    "print(\"Popout the 4th item in the list =\",a.pop(3))"
   ]
  },
  {
   "cell_type": "markdown",
   "id": "57acb999-7889-4e3f-b6e8-d5465b789cee",
   "metadata": {},
   "source": [
    "#### --> Finding the Index"
   ]
  },
  {
   "cell_type": "code",
   "execution_count": 19,
   "id": "e09a0404-5796-4563-a83b-b1fda3ed4179",
   "metadata": {},
   "outputs": [
    {
     "name": "stdout",
     "output_type": "stream",
     "text": [
      "Index of 2 = 1\n",
      "Index of 2 = 5\n"
     ]
    }
   ],
   "source": [
    "a = [1,2,3,4,5,'a',6,7]\n",
    "print(\"Index of 2 =\",a.index(2))\n",
    "print(\"Index of 2 =\",a.index('a'))"
   ]
  },
  {
   "cell_type": "markdown",
   "id": "d9bedd13-58d3-425f-8bff-8cbaaacecbc2",
   "metadata": {},
   "source": [
    "#### --> Counting Elements"
   ]
  },
  {
   "cell_type": "code",
   "execution_count": 20,
   "id": "f337e37e-625a-4f39-88ff-e4ecb9c8883e",
   "metadata": {},
   "outputs": [
    {
     "name": "stdout",
     "output_type": "stream",
     "text": [
      "3\n"
     ]
    }
   ],
   "source": [
    "a = [1, 1, 1, 2, 3, 4, 5]\n",
    "print(a.count(1))"
   ]
  },
  {
   "cell_type": "markdown",
   "id": "8e2e26cb-b133-4f0e-807e-1d95c86ef305",
   "metadata": {},
   "source": [
    "#### --> Sort"
   ]
  },
  {
   "cell_type": "code",
   "execution_count": 29,
   "id": "e4ac4e20-461f-4833-b5c9-11f83dbe240e",
   "metadata": {},
   "outputs": [
    {
     "name": "stdout",
     "output_type": "stream",
     "text": [
      "[1, 2, 3, 3, 4, 5]\n"
     ]
    }
   ],
   "source": [
    "a = [1,3,4,5,2,3]\n",
    "a.sort()\n",
    "print(a)"
   ]
  },
  {
   "cell_type": "code",
   "execution_count": 31,
   "id": "335df1ab-c7bb-4774-9ca9-83a7fca292f4",
   "metadata": {},
   "outputs": [
    {
     "name": "stdout",
     "output_type": "stream",
     "text": [
      "[5, 4, 3, 3, 2, 1]\n"
     ]
    }
   ],
   "source": [
    "a = [1,3,4,5,2,3]\n",
    "a.sort()\n",
    "a.reverse()\n",
    "print(a)"
   ]
  },
  {
   "cell_type": "markdown",
   "id": "f2533d95-f896-4852-994a-863a36992fe0",
   "metadata": {},
   "source": [
    "#### --> Copying Lists"
   ]
  },
  {
   "cell_type": "code",
   "execution_count": 32,
   "id": "ea3d5fea-027b-41ec-bab1-6cd05a8263ed",
   "metadata": {},
   "outputs": [
    {
     "name": "stdout",
     "output_type": "stream",
     "text": [
      "[1, 2, 3, 4, 5]\n"
     ]
    }
   ],
   "source": [
    "a = [1, 2, 3, 4, 5]\n",
    "b = a.copy()\n",
    "print(b)"
   ]
  },
  {
   "cell_type": "code",
   "execution_count": 33,
   "id": "55c1a713-fb97-4253-9640-29b0aed9183d",
   "metadata": {},
   "outputs": [
    {
     "name": "stdout",
     "output_type": "stream",
     "text": [
      "[1, 2, 3, 4, 5]\n"
     ]
    }
   ],
   "source": [
    "a = [1, 2, 3, 4, 5]\n",
    "b = a[:]\n",
    "print(b)"
   ]
  },
  {
   "cell_type": "code",
   "execution_count": 34,
   "id": "e51f3992-976c-4d48-a783-afb217f6261b",
   "metadata": {},
   "outputs": [
    {
     "name": "stdout",
     "output_type": "stream",
     "text": [
      "[1, 2, 3, 4, 5]\n"
     ]
    }
   ],
   "source": [
    "a = [1, 2, 3, 4, 5]\n",
    "b = list(a)\n",
    "print(b)"
   ]
  },
  {
   "cell_type": "markdown",
   "id": "b67833bc-7ad2-4018-a7e6-cf8ed6fa1f3d",
   "metadata": {},
   "source": [
    "#### --> Length"
   ]
  },
  {
   "cell_type": "code",
   "execution_count": 36,
   "id": "74873e3d-27cf-4632-8770-b1c79060204e",
   "metadata": {},
   "outputs": [
    {
     "name": "stdout",
     "output_type": "stream",
     "text": [
      "3\n"
     ]
    }
   ],
   "source": [
    "a = ['a','b','c']\n",
    "print(len(a))"
   ]
  },
  {
   "cell_type": "code",
   "execution_count": 37,
   "id": "48953fdf-eba4-414d-a475-cd0e460d8587",
   "metadata": {},
   "outputs": [
    {
     "name": "stdout",
     "output_type": "stream",
     "text": [
      "6\n"
     ]
    }
   ],
   "source": [
    "a = [1, 2, 3, 4, 5, 6]\n",
    "print(len(a))"
   ]
  },
  {
   "cell_type": "code",
   "execution_count": 38,
   "id": "22013f95-cfbb-4b97-b517-db0dcc9360cb",
   "metadata": {},
   "outputs": [
    {
     "name": "stdout",
     "output_type": "stream",
     "text": [
      "4\n"
     ]
    }
   ],
   "source": [
    "a = [1, 2, 3, 4]\n",
    "print(len(a))"
   ]
  },
  {
   "cell_type": "markdown",
   "id": "8255a21f-e620-4b74-9c3e-366a24347f10",
   "metadata": {},
   "source": [
    "#### --> Clear"
   ]
  },
  {
   "cell_type": "code",
   "execution_count": null,
   "id": "a1064f97-0947-4c2d-9268-39633d2fea52",
   "metadata": {},
   "outputs": [],
   "source": [
    "a = [1, ]"
   ]
  }
 ],
 "metadata": {
  "kernelspec": {
   "display_name": "Python 3 (ipykernel)",
   "language": "python",
   "name": "python3"
  },
  "language_info": {
   "codemirror_mode": {
    "name": "ipython",
    "version": 3
   },
   "file_extension": ".py",
   "mimetype": "text/x-python",
   "name": "python",
   "nbconvert_exporter": "python",
   "pygments_lexer": "ipython3",
   "version": "3.9.13"
  }
 },
 "nbformat": 4,
 "nbformat_minor": 5
}
