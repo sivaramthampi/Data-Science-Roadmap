{
 "cells": [
  {
   "cell_type": "markdown",
   "id": "f2122694-c744-44be-8d89-cb4f363c2d43",
   "metadata": {},
   "source": [
    "# Conditional Statements in Python\n",
    "Conditional statements in Python allow you to execute specific blocks of code based on certain conditions. The primary conditional statements in Python are if, elif, and else"
   ]
  },
  {
   "cell_type": "markdown",
   "id": "5e5238ad-7b48-418c-8625-8d797a2e1d13",
   "metadata": {},
   "source": [
    "<h2 style=\"color:yellow\">Basic Structure</h2>\n",
    "Here's a simple example of how to use these statements"
   ]
  },
  {
   "cell_type": "markdown",
   "id": "7208dd2d-e875-4df4-abf1-984df3c29407",
   "metadata": {},
   "source": [
    "### if\n",
    "Checks a condition and executes a block of code if the condition is true."
   ]
  },
  {
   "cell_type": "code",
   "execution_count": 17,
   "id": "9021d7e4-e850-4e73-b03a-d9180e7c06ba",
   "metadata": {},
   "outputs": [
    {
     "name": "stdout",
     "output_type": "stream",
     "text": [
      "x is greater than 5\n"
     ]
    }
   ],
   "source": [
    "x = 10\n",
    "if x > 5:\n",
    "    print(\"x is greater than 5\")"
   ]
  },
  {
   "cell_type": "code",
   "execution_count": 18,
   "id": "47ec5c94-fb5b-4207-a1da-f1900b926b97",
   "metadata": {},
   "outputs": [
    {
     "name": "stdout",
     "output_type": "stream",
     "text": [
      "Age is greater than or equal to 18\n"
     ]
    }
   ],
   "source": [
    "age = 18\n",
    "if age >= 18:\n",
    "    print(\"Age is greater than or equal to 18\")"
   ]
  },
  {
   "cell_type": "code",
   "execution_count": 19,
   "id": "1146241e-c595-4391-b02e-e60a97c40544",
   "metadata": {},
   "outputs": [
    {
     "name": "stdout",
     "output_type": "stream",
     "text": [
      "Flag equals True\n"
     ]
    }
   ],
   "source": [
    "flag = True\n",
    "if flag:\n",
    "    print(\"Flag equals True\")"
   ]
  },
  {
   "cell_type": "markdown",
   "id": "1e41e5e6-60a9-4cf1-9a40-a6c7cd5bc4df",
   "metadata": {},
   "source": [
    "### elif\n",
    "Short for \"else if,\" elif allows you to check additional conditions if the initial if condition is false."
   ]
  },
  {
   "cell_type": "code",
   "execution_count": 20,
   "id": "c5c1641f-5893-47a6-bcb8-fde261cb4eed",
   "metadata": {},
   "outputs": [
    {
     "name": "stdout",
     "output_type": "stream",
     "text": [
      "x is greater than 5\n"
     ]
    }
   ],
   "source": [
    "x = 10\n",
    "if x < 5:\n",
    "    print(\"x is less than 5\")\n",
    "elif x > 5:\n",
    "    print(\"x is greater than 5\")"
   ]
  },
  {
   "cell_type": "code",
   "execution_count": 21,
   "id": "2aae19be-81fd-4718-acda-ecc1230f5308",
   "metadata": {},
   "outputs": [
    {
     "name": "stdout",
     "output_type": "stream",
     "text": [
      "Age is equal to 15\n"
     ]
    }
   ],
   "source": [
    "age = 15\n",
    "if age >= 18:\n",
    "    print(\"Age is greater than or equal to 18\")\n",
    "elif age == 15:\n",
    "    print(\"Age is equal to 15\")"
   ]
  },
  {
   "cell_type": "code",
   "execution_count": 22,
   "id": "733107be-5c56-4c35-b4b6-dbdcbd606621",
   "metadata": {},
   "outputs": [
    {
     "name": "stdout",
     "output_type": "stream",
     "text": [
      "Flag equals False\n"
     ]
    }
   ],
   "source": [
    "flag = False\n",
    "if flag:\n",
    "    print(\"Flag equals True\")\n",
    "elif not flag:\n",
    "    print(\"Flag equals False\")"
   ]
  },
  {
   "cell_type": "markdown",
   "id": "700958ed-cbbe-4c35-aebb-47547e585076",
   "metadata": {},
   "source": [
    "### else\n",
    "The else statement provides a default block of code to execute if none of the previous conditions are true."
   ]
  },
  {
   "cell_type": "code",
   "execution_count": 23,
   "id": "cc8f7dae-b431-45e6-b648-45408f21eb28",
   "metadata": {},
   "outputs": [
    {
     "name": "stdout",
     "output_type": "stream",
     "text": [
      "x is equal to 5\n"
     ]
    }
   ],
   "source": [
    "x = 5\n",
    "if x < 5:\n",
    "    print(\"x is less than 5\")\n",
    "elif x > 5:\n",
    "    print(\"x is greater than 5\")\n",
    "else:\n",
    "    print(\"x is equal to 5\")"
   ]
  },
  {
   "cell_type": "code",
   "execution_count": 24,
   "id": "7f69782f-9144-4418-be5c-43a29bd8640d",
   "metadata": {},
   "outputs": [
    {
     "name": "stdout",
     "output_type": "stream",
     "text": [
      "Age is less than 18 and not equal to 15\n"
     ]
    }
   ],
   "source": [
    "age = 14\n",
    "if age >= 18:\n",
    "    print(\"Age is greater than or equal to 18\")\n",
    "elif age == 15:\n",
    "    print(\"Age is equal to 15\")\n",
    "else:\n",
    "    print(\"Age is less than 18 and not equal to 15\")"
   ]
  },
  {
   "cell_type": "code",
   "execution_count": 25,
   "id": "cda816bc-e481-4e2b-96cf-22ce7739476d",
   "metadata": {},
   "outputs": [
    {
     "name": "stdout",
     "output_type": "stream",
     "text": [
      "Flag is false!\n"
     ]
    }
   ],
   "source": [
    "flag = None\n",
    "if flag:\n",
    "    print(\"Flag equals True\")\n",
    "else:\n",
    "    print(\"Flag is false!\")"
   ]
  },
  {
   "cell_type": "markdown",
   "id": "46c324af-1073-4feb-93e3-8dd02a35774e",
   "metadata": {},
   "source": [
    "<h2 style=\"color:yellow\">Chaining Conditions</h2>\n",
    "You can also chain multiple conditions"
   ]
  },
  {
   "cell_type": "code",
   "execution_count": 27,
   "id": "c6c43ac8-72fc-4257-90ce-76b6adc76550",
   "metadata": {},
   "outputs": [
    {
     "name": "stdout",
     "output_type": "stream",
     "text": [
      "Grade: B\n"
     ]
    }
   ],
   "source": [
    "score = 85\n",
    "if score >= 90:\n",
    "    print(\"Grade: A\")\n",
    "elif score >= 80:\n",
    "    print(\"Grade: B\")\n",
    "elif score >= 70:\n",
    "    print(\"Grade: C\")\n",
    "else:\n",
    "    print(\"Grade: D\")"
   ]
  },
  {
   "cell_type": "markdown",
   "id": "f8663b45-5ce2-4e45-8cbd-bebe2df85c28",
   "metadata": {},
   "source": [
    "<h2 style=\"color:yellow\">Nested Conditional Statements</h2>\n",
    "You can nest conditional statements within one another"
   ]
  },
  {
   "cell_type": "code",
   "execution_count": 29,
   "id": "a171c65f-44c7-4e5a-9763-7c576bd19341",
   "metadata": {},
   "outputs": [
    {
     "name": "stdout",
     "output_type": "stream",
     "text": [
      "Positive number\n",
      "And it's even.\n"
     ]
    }
   ],
   "source": [
    "number = 10\n",
    "if number > 0:\n",
    "    print(\"Positive number\")\n",
    "    if number % 2 == 0:\n",
    "        print(\"And it's even.\")\n",
    "    else:\n",
    "        print(\"And it's odd.\")\n",
    "else:\n",
    "    print(\"Negative number or zero\")\n"
   ]
  },
  {
   "cell_type": "markdown",
   "id": "d901c105-bb93-4cf3-9072-5c01977fb730",
   "metadata": {},
   "source": [
    "<h2 style=\"color:yellow\">Using Logical Operators</h2>\n",
    "You can combine conditions using logical operators like and, or, and not"
   ]
  },
  {
   "cell_type": "code",
   "execution_count": 31,
   "id": "9a5f2dc1-a870-44de-b677-729f9251621a",
   "metadata": {},
   "outputs": [
    {
     "name": "stdout",
     "output_type": "stream",
     "text": [
      "It's a nice day!\n"
     ]
    }
   ],
   "source": [
    "temperature = 25\n",
    "is_sunny = True\n",
    "if temperature > 20 and is_sunny:\n",
    "    print(\"It's a nice day!\")\n",
    "elif temperature <= 20 or not is_sunny:\n",
    "    print(\"Better stay indoors.\")\n"
   ]
  },
  {
   "cell_type": "markdown",
   "id": "1fb2c6a5-b48d-40ef-bc93-ecec41ce1fa7",
   "metadata": {},
   "source": [
    "### Conditional statements are a fundamental part of programming in Python, allowing for decision-making in your code."
   ]
  }
 ],
 "metadata": {
  "kernelspec": {
   "display_name": "Python 3 (ipykernel)",
   "language": "python",
   "name": "python3"
  },
  "language_info": {
   "codemirror_mode": {
    "name": "ipython",
    "version": 3
   },
   "file_extension": ".py",
   "mimetype": "text/x-python",
   "name": "python",
   "nbconvert_exporter": "python",
   "pygments_lexer": "ipython3",
   "version": "3.9.13"
  }
 },
 "nbformat": 4,
 "nbformat_minor": 5
}
