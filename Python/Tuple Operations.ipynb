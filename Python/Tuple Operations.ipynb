{
 "cells": [
  {
   "cell_type": "markdown",
   "id": "c5d45a12-b111-4bb3-8360-0c49846a331c",
   "metadata": {},
   "source": [
    "## Tuple Operation"
   ]
  },
  {
   "cell_type": "markdown",
   "id": "5c8bc371-2395-45ef-93c1-7aa167180445",
   "metadata": {},
   "source": [
    "#### --> Creating a Tuple"
   ]
  },
  {
   "cell_type": "code",
   "execution_count": 1,
   "id": "43e26f15-9e54-476c-8091-73cc9d89d80e",
   "metadata": {},
   "outputs": [
    {
     "name": "stdout",
     "output_type": "stream",
     "text": [
      "(1, 2, 3)\n"
     ]
    }
   ],
   "source": [
    "a = (1, 2, 3)\n",
    "print(a)"
   ]
  },
  {
   "cell_type": "markdown",
   "id": "af35ee1e-1bca-493b-9caa-9fdc84e21a29",
   "metadata": {},
   "source": [
    "#### --> Accessing Elements"
   ]
  },
  {
   "cell_type": "code",
   "execution_count": 2,
   "id": "833a4f98-17c2-4513-aa6f-830e154b009b",
   "metadata": {},
   "outputs": [
    {
     "name": "stdout",
     "output_type": "stream",
     "text": [
      "1\n",
      "2\n",
      "3\n",
      "4\n",
      "5\n"
     ]
    }
   ],
   "source": [
    "a = (1, 2, 3, 4, 5)\n",
    "print(a[0])\n",
    "print(a[1])\n",
    "print(a[2])\n",
    "print(a[3])\n",
    "print(a[4])"
   ]
  },
  {
   "cell_type": "markdown",
   "id": "942feb89-1ca6-4b37-8ad9-89be03dd498c",
   "metadata": {},
   "source": [
    "#### --> Slicing"
   ]
  },
  {
   "cell_type": "code",
   "execution_count": 3,
   "id": "46994328-2824-44cf-a23f-19f12494bf41",
   "metadata": {},
   "outputs": [
    {
     "name": "stdout",
     "output_type": "stream",
     "text": [
      "(2, 3)\n"
     ]
    }
   ],
   "source": [
    "a = (1, 2, 3, 4, 5, 6)\n",
    "print(a[1:3])"
   ]
  },
  {
   "cell_type": "code",
   "execution_count": 4,
   "id": "c021b1d0-22aa-4471-af25-5ed9060d9188",
   "metadata": {},
   "outputs": [
    {
     "name": "stdout",
     "output_type": "stream",
     "text": [
      "(2, 3, 4, 5, 6)\n"
     ]
    }
   ],
   "source": [
    "a = (1, 2, 3, 4, 5, 6)\n",
    "print(a[1:])"
   ]
  },
  {
   "cell_type": "code",
   "execution_count": 5,
   "id": "40835997-77c5-4449-b9e3-feff16d4da76",
   "metadata": {},
   "outputs": [
    {
     "name": "stdout",
     "output_type": "stream",
     "text": [
      "(3, 4, 5)\n"
     ]
    }
   ],
   "source": [
    "a = (1, 2, 3, 4, 5, 6)\n",
    "b = a[2:5]\n",
    "print(b)"
   ]
  },
  {
   "cell_type": "markdown",
   "id": "731f16a1-d25e-4f23-a603-626e582e7785",
   "metadata": {},
   "source": [
    "#### --> Count"
   ]
  },
  {
   "cell_type": "code",
   "execution_count": 6,
   "id": "14c8e847-c73b-4144-9b87-931849dab9b1",
   "metadata": {},
   "outputs": [
    {
     "name": "stdout",
     "output_type": "stream",
     "text": [
      "4\n"
     ]
    }
   ],
   "source": [
    "a = (1, 1, 1, 1, 2, 3)\n",
    "print(a.count(1))"
   ]
  },
  {
   "cell_type": "markdown",
   "id": "ef31f0dc-7096-48df-8668-9881268847a0",
   "metadata": {},
   "source": [
    "#### --> Index"
   ]
  },
  {
   "cell_type": "code",
   "execution_count": 9,
   "id": "ddea1ae2-0dd5-4ac1-9772-621d59c992e2",
   "metadata": {},
   "outputs": [
    {
     "name": "stdout",
     "output_type": "stream",
     "text": [
      "4\n"
     ]
    }
   ],
   "source": [
    "a = (1, 2, 3, 4, 'a')\n",
    "print(a.index('a'))"
   ]
  },
  {
   "cell_type": "code",
   "execution_count": 10,
   "id": "66bf3bbb-0e03-4b56-936f-192e508ecc88",
   "metadata": {},
   "outputs": [
    {
     "name": "stdout",
     "output_type": "stream",
     "text": [
      "0\n"
     ]
    }
   ],
   "source": [
    "a = (1, 2, 3, 4, 'a')\n",
    "print(a.index(1))"
   ]
  },
  {
   "cell_type": "markdown",
   "id": "6eaf4507-fca1-4602-be6f-f25dd955d211",
   "metadata": {},
   "source": [
    "#### --> Copying Tuple"
   ]
  },
  {
   "cell_type": "code",
   "execution_count": 16,
   "id": "84ab01d1-34a9-4786-a499-892926833920",
   "metadata": {},
   "outputs": [
    {
     "name": "stdout",
     "output_type": "stream",
     "text": [
      "(1, 2, 3, 4)\n"
     ]
    }
   ],
   "source": [
    "a = (1, 2, 3, 4)\n",
    "b = a\n",
    "print(a)"
   ]
  },
  {
   "cell_type": "markdown",
   "id": "22ffbb5e-38a0-4cde-980b-75df073603ec",
   "metadata": {},
   "source": [
    "#### --> Concat a Tuple"
   ]
  },
  {
   "cell_type": "code",
   "execution_count": null,
   "id": "77d0f175-c33d-4ee4-bf42-17a820b07ce3",
   "metadata": {},
   "outputs": [],
   "source": [
    "a = (1, 2, 3)\n",
    "b = (4, 5,)"
   ]
  }
 ],
 "metadata": {
  "kernelspec": {
   "display_name": "Python 3 (ipykernel)",
   "language": "python",
   "name": "python3"
  },
  "language_info": {
   "codemirror_mode": {
    "name": "ipython",
    "version": 3
   },
   "file_extension": ".py",
   "mimetype": "text/x-python",
   "name": "python",
   "nbconvert_exporter": "python",
   "pygments_lexer": "ipython3",
   "version": "3.9.13"
  }
 },
 "nbformat": 4,
 "nbformat_minor": 5
}
