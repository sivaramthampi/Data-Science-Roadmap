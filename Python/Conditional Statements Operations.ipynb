{
 "cells": [
  {
   "cell_type": "markdown",
   "id": "b93f248f-f271-477f-8f5d-70b68ec4ba6d",
   "metadata": {},
   "source": [
    "## 10 Questions on Conditional Statements\n",
    "1. Write a that takes a number and returns \"Even\" if the number is even and \"Odd\" if the number is odd.\n",
    "Multiple Conditions:"
   ]
  },
  {
   "cell_type": "code",
   "execution_count": 5,
   "id": "9adb93c5-2127-4b89-9072-bcdcf7e9aef5",
   "metadata": {},
   "outputs": [
    {
     "name": "stdout",
     "output_type": "stream",
     "text": [
      "Number is Even!\n"
     ]
    }
   ],
   "source": [
    "a = 10\n",
    "if a % 2 == 0:\n",
    "    print(\"Number is Even!\")\n",
    "else:\n",
    "    print(\"Number is odd!\")"
   ]
  },
  {
   "cell_type": "markdown",
   "id": "9964f810-97b4-4e61-86cc-99f6e13858a9",
   "metadata": {},
   "source": [
    "2. How would you write a code that checks if a given age allows someone to vote (18 or older), drive (16 or older), or drink alcohol (21 or older)? Return appropriate messages for each case.\n",
    "Using if-elif-else:"
   ]
  },
  {
   "cell_type": "code",
   "execution_count": 14,
   "id": "3d238eac-7d1d-42ef-8a55-778b0bd45c6f",
   "metadata": {},
   "outputs": [
    {
     "name": "stdout",
     "output_type": "stream",
     "text": [
      "You are underage!\n"
     ]
    }
   ],
   "source": [
    "age = 11\n",
    "if age >= 16 and age < 18:\n",
    "    print(\"Age to drive!\")\n",
    "elif age < 16:\n",
    "    print(\"You are underage!\")\n",
    "elif age >= 18 and age < 21:\n",
    "    print(\"Age to vote!\")\n",
    "else:\n",
    "    print(\"You are old enough!\")"
   ]
  },
  {
   "cell_type": "markdown",
   "id": "adf7f98a-e637-4dcf-aa77-9b43d1c1b903",
   "metadata": {},
   "source": [
    "3. Create a code that takes a score (0-100) as input and returns a grade based on the following scale: A (90-100), B (80-89), C (70-79), D (60-69), and F (below 60)."
   ]
  },
  {
   "cell_type": "code",
   "execution_count": 19,
   "id": "82704e26-19ed-4c36-9fd6-bab56a340886",
   "metadata": {},
   "outputs": [
    {
     "name": "stdout",
     "output_type": "stream",
     "text": [
      "A\n"
     ]
    }
   ],
   "source": [
    "score = 100\n",
    "if score >= 90:\n",
    "    print(\"A\")\n",
    "elif score >= 80 and score <= 89:\n",
    "    print(\"B\")\n",
    "elif score >= 70 and score <= 79:\n",
    "    print(\"C\")\n",
    "elif score >= 60 and score <= 69:\n",
    "    print(\"D\")\n",
    "else:\n",
    "    print(\"F\")"
   ]
  },
  {
   "cell_type": "markdown",
   "id": "3b58ff81-d4ab-4512-9851-81d83ebaff5a",
   "metadata": {},
   "source": [
    "4. Write a code that accepts two numbers and returns the larger of the two. If they are equal, return a message stating they are equal."
   ]
  },
  {
   "cell_type": "code",
   "execution_count": 23,
   "id": "21ffd7e3-335b-4af7-8efe-fdac044cabd3",
   "metadata": {},
   "outputs": [
    {
     "name": "stdout",
     "output_type": "stream",
     "text": [
      "a and b is equal\n"
     ]
    }
   ],
   "source": [
    "a = 10\n",
    "b = 10\n",
    "if a > b:\n",
    "    print(\"a is greater than b\")\n",
    "elif b > a:\n",
    "    print(\"b is greater than a\")\n",
    "else:\n",
    "    print(\"a and b is equal\")"
   ]
  },
  {
   "cell_type": "markdown",
   "id": "b01286c9-db14-4253-8c18-86e4cfecbf4e",
   "metadata": {},
   "source": [
    "5. Use a ternary operator to determine if a number is positive, negative, or zero. Write this logic in a single line within a single line of code.\n"
   ]
  },
  {
   "cell_type": "code",
   "execution_count": 41,
   "id": "018a1a06-cb4b-4517-8e92-8cf00ca43caa",
   "metadata": {},
   "outputs": [
    {
     "name": "stdout",
     "output_type": "stream",
     "text": [
      "Positive\n"
     ]
    }
   ],
   "source": [
    "num = 1\n",
    "print(\"Positive\" if num > 0 else \"Negative\" if num < 0 else \"Zero\")"
   ]
  },
  {
   "cell_type": "markdown",
   "id": "68f04504-0252-491c-aacf-5598514ee730",
   "metadata": {},
   "source": [
    "6. Given a boolean variable is_logged_in and has_permission, write a conditional statement that checks if a user can access a certain feature. Return \"Access Granted\" or \"Access Denied\" accordingly."
   ]
  },
  {
   "cell_type": "code",
   "execution_count": 47,
   "id": "5dbce619-e07d-4ed4-a9a4-bcfc3584d156",
   "metadata": {},
   "outputs": [
    {
     "name": "stdout",
     "output_type": "stream",
     "text": [
      "Access Granted!\n"
     ]
    }
   ],
   "source": [
    "logged_in_user = \"John\"\n",
    "is_logged_in = True if logged_in_user == \"John\" else False\n",
    "has_permission = True if logged_in_user == \"John\" else False\n",
    "if is_logged_in and has_permission:\n",
    "    print(\"Access Granted!\")\n",
    "else:\n",
    "    print(\"Access Denied\")"
   ]
  },
  {
   "cell_type": "markdown",
   "id": "2c9c029a-f930-47b5-a1af-b624561d5ded",
   "metadata": {},
   "source": [
    "7. Write a code that checks if a given string is a palindrome (reads the same forwards and backwards) and return True or False."
   ]
  },
  {
   "cell_type": "code",
   "execution_count": 55,
   "id": "c8e2d010-0361-469d-afeb-6798ae0b24c3",
   "metadata": {},
   "outputs": [
    {
     "name": "stdout",
     "output_type": "stream",
     "text": [
      "Palindrome\n"
     ]
    }
   ],
   "source": [
    "a = \"malayalam\"\n",
    "b = a[::-1]\n",
    "if a == b:\n",
    "    print(\"Palindrome\")\n",
    "else:\n",
    "    print(\"Not Palindrome\")"
   ]
  },
  {
   "cell_type": "markdown",
   "id": "b6af5594-ba88-4852-bab0-a14a0ce00c17",
   "metadata": {},
   "source": [
    "8. Write a Python code that determines whether a given year is a leap year. A leap year is divisible by 4, but not by 100, unless it's also divisible by 400. Use conditional statements to implement this logic."
   ]
  },
  {
   "cell_type": "code",
   "execution_count": 66,
   "id": "294e61b2-4860-4304-b885-3e868bd6d6d3",
   "metadata": {},
   "outputs": [
    {
     "name": "stdout",
     "output_type": "stream",
     "text": [
      "Not a Leap Year\n"
     ]
    }
   ],
   "source": [
    "year = 2025\n",
    "if year % 4 == 0:\n",
    "    if year % 100 == 0:\n",
    "        if year % 400 == 0:\n",
    "            print(\"Leap Year\")\n",
    "        else:\n",
    "            print(\"Not a Leap Year\")\n",
    "    else:\n",
    "        print(\"Leap Year\")\n",
    "\n",
    "else:\n",
    "    print(\"Not a Leap Year\")"
   ]
  },
  {
   "cell_type": "markdown",
   "id": "922d39e0-c11e-423e-973a-8781bca089a9",
   "metadata": {},
   "source": [
    "9. Implement the FizzBuzz game in Python. The game involves printing numbers from 1 to a given limit. If a number is divisible by 3, print \"Fizz\". If it's divisible by 5, print \"Buzz\". If it's divisible by both 3 and 5, print \"FizzBuzz\"."
   ]
  },
  {
   "cell_type": "code",
   "execution_count": 76,
   "id": "5aa8c56b-ab0f-4b61-8a8c-76cd1b9be555",
   "metadata": {},
   "outputs": [
    {
     "name": "stdout",
     "output_type": "stream",
     "text": [
      "FizzBuzz\n"
     ]
    }
   ],
   "source": [
    "a = 15\n",
    "if a > 20:\n",
    "    print(\"Limit Reached!! Enter a number that is below 10\")\n",
    "elif a % 3 == 0 and a % 5 == 0:\n",
    "    print(\"FizzBuzz\")\n",
    "elif a % 3 == 0:\n",
    "    print(\"Fizz\")\n",
    "elif a % 5 == 0:\n",
    "    print(\"Buzz\")\n",
    "else:\n",
    "    print(\"Failed!\")"
   ]
  },
  {
   "cell_type": "markdown",
   "id": "4019dff5-4f06-47f6-92a0-0379aef1a107",
   "metadata": {},
   "source": [
    "10. Create a Python program that calculates a discount on a product based on the customer's age. Use conditional statements to apply different discounts for age groups like children, adults, and seniors."
   ]
  },
  {
   "cell_type": "code",
   "execution_count": 3,
   "id": "77771b84-5307-421e-a806-9f6be22aeee2",
   "metadata": {},
   "outputs": [
    {
     "name": "stdout",
     "output_type": "stream",
     "text": [
      "You are eligible for a discount of 20%\n"
     ]
    }
   ],
   "source": [
    "age = 10\n",
    "if age > 40:\n",
    "    print(\"You are not eligible for a discount\")\n",
    "elif age >= 10 and age <= 19:\n",
    "    print(\"You are eligible for a discount of 20%\")\n",
    "elif age >= 20 and age <= 29:\n",
    "    print(\"You are eligible for a discount of 10%\")\n",
    "elif age >= 30 and age <= 40:\n",
    "    print(\"You are eligible for a discount of 5%\")"
   ]
  }
 ],
 "metadata": {
  "kernelspec": {
   "display_name": "Python 3 (ipykernel)",
   "language": "python",
   "name": "python3"
  },
  "language_info": {
   "codemirror_mode": {
    "name": "ipython",
    "version": 3
   },
   "file_extension": ".py",
   "mimetype": "text/x-python",
   "name": "python",
   "nbconvert_exporter": "python",
   "pygments_lexer": "ipython3",
   "version": "3.9.13"
  }
 },
 "nbformat": 4,
 "nbformat_minor": 5
}
