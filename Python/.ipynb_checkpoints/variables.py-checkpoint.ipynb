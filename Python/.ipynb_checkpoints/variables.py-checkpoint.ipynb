{
 "cells": [
  {
   "cell_type": "markdown",
   "id": "61fae458",
   "metadata": {},
   "source": [
    "<strong><h1><u>Variables</u></h1></strong>\n",
    "<p>In python, variables are categorised into multiple.<p>"
   ]
  },
  {
   "cell_type": "markdown",
   "id": "4ce518f7-9801-47a7-8b60-5def9d079f04",
   "metadata": {},
   "source": [
    "<ul>\n",
    "    <li><u>Numbers</u>\n",
    "        <ul>\n",
    "            <li><b>Integers</b>\n",
    "                <ul>\n",
    "                    <li>Stores wholenumbers (1, 42, -7)</li>\n",
    "                </ul>\n",
    "            </li>\n",
    "            <li><b>Float</b>\n",
    "                <ul>\n",
    "                    <li>Stores numbers with decimal points (3.14, -0.001, 2.0)</li>\n",
    "                </ul>\n",
    "            </li>\n",
    "        </ul>\n",
    "    </li>\n",
    "    <hr>\n",
    "    <li>Sequence Types\n",
    "        <ul>\n",
    "            <li><b>Integers</b>\n",
    "                <ul>\n",
    "                    <li>Stores wholenumbers (1, 42, -7)</li>\n",
    "                </ul>\n",
    "            </li>\n",
    "            <li><b>Float</b>\n",
    "                <ul>\n",
    "                    <li>Stores numbers with decimal points (3.14, -0.001, 2.0)</li>\n",
    "                </ul>\n",
    "            </li>\n",
    "        </ul>\n",
    "    </li>\n",
    "    <li></li>\n",
    "    <li></li>\n",
    "    <li></li>\n",
    "    <li></li>\n",
    "</ul>"
   ]
  },
  {
   "cell_type": "code",
   "execution_count": null,
   "id": "45977779-bb92-4e97-8d45-9dae6c695518",
   "metadata": {},
   "outputs": [],
   "source": []
  }
 ],
 "metadata": {
  "kernelspec": {
   "display_name": "Python 3 (ipykernel)",
   "language": "python",
   "name": "python3"
  },
  "language_info": {
   "codemirror_mode": {
    "name": "ipython",
    "version": 3
   },
   "file_extension": ".py",
   "mimetype": "text/x-python",
   "name": "python",
   "nbconvert_exporter": "python",
   "pygments_lexer": "ipython3",
   "version": "3.9.13"
  }
 },
 "nbformat": 4,
 "nbformat_minor": 5
}
