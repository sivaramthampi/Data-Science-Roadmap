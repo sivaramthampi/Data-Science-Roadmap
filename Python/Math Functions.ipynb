{
 "cells": [
  {
   "cell_type": "markdown",
   "id": "76dae21e-c440-4212-a31a-538aba95bfe9",
   "metadata": {},
   "source": [
    "# Math Functions"
   ]
  },
  {
   "cell_type": "markdown",
   "id": "66a048c8-ee3a-41fa-8896-2ffac7307346",
   "metadata": {},
   "source": [
    "<h2 style=\"color:yellow\">abs()</h2>\n",
    "Returns the absolute value."
   ]
  },
  {
   "cell_type": "code",
   "execution_count": 2,
   "id": "cf4459d9-c3de-4315-acd2-7fb666da188a",
   "metadata": {},
   "outputs": [
    {
     "name": "stdout",
     "output_type": "stream",
     "text": [
      "5\n",
      "3.14\n"
     ]
    }
   ],
   "source": [
    "print(abs(-5))\n",
    "print(abs(3.14))"
   ]
  },
  {
   "cell_type": "markdown",
   "id": "cc2fb0ac-22bb-4b62-9358-1ef0b815be11",
   "metadata": {},
   "source": [
    "<h2 style=\"color:yellow\">pow()</h2>\n",
    "Raises a number to a power."
   ]
  },
  {
   "cell_type": "code",
   "execution_count": 3,
   "id": "ce102a07-93d2-486d-824a-037562843a2f",
   "metadata": {},
   "outputs": [
    {
     "name": "stdout",
     "output_type": "stream",
     "text": [
      "8\n",
      "25\n"
     ]
    }
   ],
   "source": [
    "print(pow(2, 3))\n",
    "print(pow(5, 2))"
   ]
  },
  {
   "cell_type": "markdown",
   "id": "cc174d3d-4bab-4a94-8cf3-f8e6b9b52898",
   "metadata": {},
   "source": [
    "<h2 style=\"color:yellow\">round()</h2>\n",
    "Rounds a number to a specified number of decimal places."
   ]
  },
  {
   "cell_type": "code",
   "execution_count": 4,
   "id": "a0651429-bd5d-4788-adcb-ad54900549a4",
   "metadata": {},
   "outputs": [
    {
     "name": "stdout",
     "output_type": "stream",
     "text": [
      "3.14\n",
      "2.718\n"
     ]
    }
   ],
   "source": [
    "print(round(3.14159, 2))\n",
    "print(round(2.71828, 3))"
   ]
  },
  {
   "cell_type": "markdown",
   "id": "eb3ad9fe-2953-4ed8-8899-fdf8ed18ab8f",
   "metadata": {},
   "source": [
    "<h2 style=\"color:yellow\">max()</h2>\n",
    "Returns the largest of the given arguments."
   ]
  },
  {
   "cell_type": "code",
   "execution_count": 8,
   "id": "1ffcf6f9-4dba-4e45-b6b9-f6bef101b74f",
   "metadata": {},
   "outputs": [
    {
     "name": "stdout",
     "output_type": "stream",
     "text": [
      "9\n",
      "-1\n"
     ]
    }
   ],
   "source": [
    "print(max(1, 5, 3, 9, 2))\n",
    "print(max(-1, -5, -3))"
   ]
  },
  {
   "cell_type": "markdown",
   "id": "26490ef2-a95c-448d-bf19-adfc30a8c52f",
   "metadata": {},
   "source": [
    "<h2 style=\"color:yellow\">min()</h2>\n",
    "Returns the smallest of the given arguments."
   ]
  },
  {
   "cell_type": "code",
   "execution_count": 7,
   "id": "c2e1e408-49ea-496c-9f25-ac498578ce62",
   "metadata": {},
   "outputs": [
    {
     "name": "stdout",
     "output_type": "stream",
     "text": [
      "9\n",
      "-1\n"
     ]
    }
   ],
   "source": [
    "print(max(1, 5, 3, 9, 2))  # Output: 9\n",
    "print(max(-1, -5, -3))"
   ]
  }
 ],
 "metadata": {
  "kernelspec": {
   "display_name": "Python 3 (ipykernel)",
   "language": "python",
   "name": "python3"
  },
  "language_info": {
   "codemirror_mode": {
    "name": "ipython",
    "version": 3
   },
   "file_extension": ".py",
   "mimetype": "text/x-python",
   "name": "python",
   "nbconvert_exporter": "python",
   "pygments_lexer": "ipython3",
   "version": "3.9.13"
  }
 },
 "nbformat": 4,
 "nbformat_minor": 5
}
