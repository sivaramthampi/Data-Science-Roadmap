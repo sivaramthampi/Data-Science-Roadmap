{
 "cells": [
  {
   "cell_type": "markdown",
   "id": "7fea0055-0e82-4011-8735-e71bcdaa5060",
   "metadata": {},
   "source": [
    "## Loops\n",
    "In Python, loops are used to execute a block of code repeatedly. The two primary types of loops are for loops and while loops."
   ]
  },
  {
   "cell_type": "markdown",
   "id": "5e6ead52-aa3a-4814-9301-24b5128fb125",
   "metadata": {},
   "source": [
    "### 1. For Loops\n",
    "A for loop iterates over a sequence (like a list, tuple, or string) or any iterable object."
   ]
  },
  {
   "cell_type": "code",
   "execution_count": 1,
   "id": "ee4e7af3-b704-4d7d-bed3-111c84eed7d5",
   "metadata": {},
   "outputs": [
    {
     "name": "stdout",
     "output_type": "stream",
     "text": [
      "apple\n",
      "banana\n",
      "cherry\n"
     ]
    }
   ],
   "source": [
    "fruits = [\"apple\", \"banana\", \"cherry\"]\n",
    "for fruit in fruits:\n",
    "    print(fruit)"
   ]
  },
  {
   "cell_type": "code",
   "execution_count": 2,
   "id": "2e17daea-ed90-4704-aa89-305b91a429f4",
   "metadata": {},
   "outputs": [
    {
     "name": "stdout",
     "output_type": "stream",
     "text": [
      "H\n",
      "e\n",
      "l\n",
      "l\n",
      "o\n"
     ]
    }
   ],
   "source": [
    "word = \"Hello\"\n",
    "for letter in word:\n",
    "    print(letter)"
   ]
  },
  {
   "cell_type": "code",
   "execution_count": 3,
   "id": "8ecda5c5-2c7f-4b30-881e-89ceac1e2148",
   "metadata": {},
   "outputs": [
    {
     "name": "stdout",
     "output_type": "stream",
     "text": [
      "1\n",
      "2\n",
      "3\n",
      "4\n",
      "5\n"
     ]
    }
   ],
   "source": [
    "a = [1, 2, 3, 4, 5]\n",
    "for i in range(5):\n",
    "    print(a[i])"
   ]
  },
  {
   "cell_type": "markdown",
   "id": "68839430-2fc3-4cba-9554-d4e4fbea0ae6",
   "metadata": {},
   "source": [
    "### 2. While Loops\n",
    "A while loop continues to execute as long as a given condition is True."
   ]
  },
  {
   "cell_type": "code",
   "execution_count": 4,
   "id": "6eca4804-df27-4870-87f7-9273098764f1",
   "metadata": {},
   "outputs": [
    {
     "name": "stdout",
     "output_type": "stream",
     "text": [
      "0\n",
      "1\n",
      "2\n",
      "3\n",
      "4\n",
      "5\n",
      "6\n",
      "7\n",
      "8\n",
      "9\n"
     ]
    }
   ],
   "source": [
    "a = 0\n",
    "while a < 10:\n",
    "    print(a)\n",
    "    a += 1"
   ]
  },
  {
   "cell_type": "code",
   "execution_count": 5,
   "id": "21f19f83-dc4a-438c-8bd8-2b85acc3248f",
   "metadata": {},
   "outputs": [
    {
     "name": "stdout",
     "output_type": "stream",
     "text": [
      "0\n",
      "1\n",
      "2\n",
      "3\n",
      "4\n",
      "5\n",
      "6\n",
      "7\n",
      "8\n",
      "9\n",
      "10\n",
      "11\n",
      "12\n",
      "13\n",
      "14\n",
      "15\n",
      "16\n",
      "17\n",
      "You are 18 years old\n"
     ]
    }
   ],
   "source": [
    "age = 0\n",
    "age_flag = False\n",
    "while age_flag == False:\n",
    "    if age >= 18:\n",
    "        age_flag = True\n",
    "        print(\"You are 18 years old\")\n",
    "    else:\n",
    "        print(age)\n",
    "    age += 1"
   ]
  },
  {
   "cell_type": "code",
   "execution_count": 8,
   "id": "f2314494-6dfc-4475-8b38-f19a2c2252d8",
   "metadata": {},
   "outputs": [
    {
     "name": "stdout",
     "output_type": "stream",
     "text": [
      "100\n",
      "101\n",
      "102 is divisible by 3!!\n"
     ]
    }
   ],
   "source": [
    "a = False\n",
    "count = 100\n",
    "while a == False:\n",
    "    if count % 3 == 0:\n",
    "        print(f\"{count} is divisible by 3!!\")\n",
    "        a = True\n",
    "    else:\n",
    "        print(count)\n",
    "        count += 1\n",
    "    "
   ]
  },
  {
   "cell_type": "code",
   "execution_count": null,
   "id": "ef868940-2a02-4b00-8fbc-32dc27c68907",
   "metadata": {},
   "outputs": [],
   "source": []
  },
  {
   "cell_type": "code",
   "execution_count": null,
   "id": "595c217a-cb65-4962-b59c-de3845c70603",
   "metadata": {},
   "outputs": [],
   "source": []
  }
 ],
 "metadata": {
  "kernelspec": {
   "display_name": "Python 3 (ipykernel)",
   "language": "python",
   "name": "python3"
  },
  "language_info": {
   "codemirror_mode": {
    "name": "ipython",
    "version": 3
   },
   "file_extension": ".py",
   "mimetype": "text/x-python",
   "name": "python",
   "nbconvert_exporter": "python",
   "pygments_lexer": "ipython3",
   "version": "3.9.13"
  }
 },
 "nbformat": 4,
 "nbformat_minor": 5
}
