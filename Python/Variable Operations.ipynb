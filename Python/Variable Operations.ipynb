{
 "cells": [
  {
   "cell_type": "markdown",
   "id": "c2a14315-0d66-4325-92e2-aca3558d6ea7",
   "metadata": {},
   "source": [
    "## 10 Basic questions and solutions using variables and operators in python"
   ]
  },
  {
   "cell_type": "markdown",
   "id": "23daf378-cbd3-43b0-895d-7c61aef11247",
   "metadata": {},
   "source": [
    "1. Basic Arithmetic Operations: Write a Python program that initializes two variables with the values 15 and 4. Print their sum, difference, product, and quotient."
   ]
  },
  {
   "cell_type": "code",
   "execution_count": 1,
   "id": "593a9680-0a46-41b6-aa93-0fd5657d4bc9",
   "metadata": {},
   "outputs": [
    {
     "name": "stdout",
     "output_type": "stream",
     "text": [
      "Sum = 30\n",
      "Difference = 10\n",
      "Product = 200\n",
      "Quotient = 2.0\n"
     ]
    }
   ],
   "source": [
    "a = 20\n",
    "b = 10\n",
    "print(\"Sum =\",a + b)\n",
    "print(\"Difference =\",a - b)\n",
    "print(\"Product =\",a * b)\n",
    "print(\"Quotient =\", a / b)"
   ]
  },
  {
   "cell_type": "markdown",
   "id": "c9bc602f-8c02-4d6c-9baa-b22a3144258b",
   "metadata": {},
   "source": [
    "2. Swapping Variables: Initialize two variables with the values 10 and 20. Swap their values without using a third variable and print the results.\n",
    "   "
   ]
  },
  {
   "cell_type": "code",
   "execution_count": 2,
   "id": "7558a7ad-9c97-4d10-9195-a45c87eee147",
   "metadata": {},
   "outputs": [
    {
     "name": "stdout",
     "output_type": "stream",
     "text": [
      "a = 20\n",
      "b = 10\n"
     ]
    }
   ],
   "source": [
    "a = 10\n",
    "b = 20\n",
    "a = a + b\n",
    "b = a - b\n",
    "a = a - b\n",
    "print(\"a =\",a)\n",
    "print(\"b =\",b)"
   ]
  },
  {
   "cell_type": "markdown",
   "id": "93086dfb-61f8-4277-9637-8afe19ffadb4",
   "metadata": {},
   "source": [
    "3. Modulus and Division: Given a variable num initialized to 42, write a Python expression to determine if num is divisible by 7 and print the result."
   ]
  },
  {
   "cell_type": "code",
   "execution_count": 4,
   "id": "3d13b090-12ea-4cdc-870e-286452a060d1",
   "metadata": {},
   "outputs": [
    {
     "name": "stdout",
     "output_type": "stream",
     "text": [
      "Is 42 divisible by 7 = True\n"
     ]
    }
   ],
   "source": [
    "num = 42\n",
    "divisible_flag = num % 7 == 0\n",
    "print(\"Is 42 divisible by 7 =\",divisible_flag)"
   ]
  },
  {
   "cell_type": "markdown",
   "id": "ffeedfc4-6743-4ccd-bd30-71ce3788aea5",
   "metadata": {},
   "source": [
    "4. String and Integer Operations: Initialize a variable num_str with the string \"7\". Convert it to an integer, compute its square, and print the result."
   ]
  },
  {
   "cell_type": "code",
   "execution_count": 5,
   "id": "19015d77-95cc-4ae9-9e44-22b9d3ea562f",
   "metadata": {},
   "outputs": [
    {
     "name": "stdout",
     "output_type": "stream",
     "text": [
      "49\n"
     ]
    }
   ],
   "source": [
    "num_str = \"7\"\n",
    "squared = int(7)**2\n",
    "print(squared)"
   ]
  },
  {
   "cell_type": "markdown",
   "id": "ba6a72b0-aef0-42a5-a3af-7d1604f59dc1",
   "metadata": {},
   "source": [
    "5. Concatenation and Multiplication: Initialize two string variables with \"Hello\" and \"World\". Concatenate them and print the result. Also, print each string repeated three times. "
   ]
  },
  {
   "cell_type": "code",
   "execution_count": 14,
   "id": "af185614-8d5f-48cd-9c5c-c7767361b2af",
   "metadata": {},
   "outputs": [
    {
     "name": "stdout",
     "output_type": "stream",
     "text": [
      "Concated= HelloWorld\n",
      "FirstWord multiplied= HelloHelloHello\n",
      "SecondWord multiplied= WorldWorldWorld\n"
     ]
    }
   ],
   "source": [
    "first_word = \"Hello\"\n",
    "second_word = \"World\"\n",
    "final_word = first_word + second_word\n",
    "print(\"Concated=\",final_word)\n",
    "print(\"FirstWord multiplied=\",first_word * 3)\n",
    "print(\"SecondWord multiplied=\",second_word * 3)"
   ]
  },
  {
   "cell_type": "markdown",
   "id": "9ddd1f93-9544-4fdc-8c82-5707d11bcafd",
   "metadata": {},
   "source": [
    "6. Boolean Expressions: Given two variables a and b with values 8 and 15, respectively, write a Python expression to check if both are greater than 5 and print the result."
   ]
  },
  {
   "cell_type": "code",
   "execution_count": 22,
   "id": "683a4db2-ca82-498d-87b7-acd8459e5c4c",
   "metadata": {},
   "outputs": [
    {
     "name": "stdout",
     "output_type": "stream",
     "text": [
      "Is both a and b are greater than 5 = True\n"
     ]
    }
   ],
   "source": [
    "a = 8\n",
    "b = 15\n",
    "result = a > 5 and b > 5\n",
    "print(\"Is both a and b are greater than 5 =\",result)"
   ]
  },
  {
   "cell_type": "markdown",
   "id": "ac1b2416-17c0-4557-8e52-a69c15d1b514",
   "metadata": {},
   "source": [
    "7. Compound Assignment Operators: Initialize a variable x with the value 10. Use compound assignment operators to increase x by 5, decrease it by 3, multiply it by 2, and divide it by 4. Print the value after each operation."
   ]
  },
  {
   "cell_type": "code",
   "execution_count": 23,
   "id": "15403fac-db43-4ec9-990a-0780b673b16a",
   "metadata": {},
   "outputs": [
    {
     "name": "stdout",
     "output_type": "stream",
     "text": [
      "After increase x by 5 = 15\n",
      "After decrease x by 3 = 12\n",
      "After multiply x by 2 = 24\n",
      "After divide x by 4 = 6.0\n"
     ]
    }
   ],
   "source": [
    "x = 10\n",
    "x += 5\n",
    "print(\"After increase x by 5 =\",x)\n",
    "x -= 3\n",
    "print(\"After decrease x by 3 =\",x)\n",
    "x *= 2\n",
    "print(\"After multiply x by 2 =\",x)\n",
    "x /= 4\n",
    "print(\"After divide x by 4 =\",x)"
   ]
  },
  {
   "cell_type": "markdown",
   "id": "75c06a4d-8573-43f1-b11f-d656fabb90f0",
   "metadata": {},
   "source": [
    "8. Comparisons and Logical Operators: Initialize three variables a, b, and c with the values 5, 10, and 8, respectively. Write a Python expression to check if a is less than b and greater than c, and print the result."
   ]
  },
  {
   "cell_type": "code",
   "execution_count": 26,
   "id": "23d438af-9506-46be-8425-aad0d57901b3",
   "metadata": {},
   "outputs": [
    {
     "name": "stdout",
     "output_type": "stream",
     "text": [
      "Check if a is less than b but greater than c = False\n"
     ]
    }
   ],
   "source": [
    "a = 5\n",
    "b = 10\n",
    "c = 8\n",
    "result = a < b and a > c\n",
    "print(\"Check if a is less than b but greater than c =\",result)"
   ]
  },
  {
   "cell_type": "markdown",
   "id": "d4e967fd-1496-4522-9e9d-10d160e6756d",
   "metadata": {},
   "source": [
    "9. String Formatting: Initialize variables name with \"Alice\" and age with 30. Print a message in the format: \"Hello, Alice! You are 30 years old.\""
   ]
  },
  {
   "cell_type": "code",
   "execution_count": 29,
   "id": "3222a75c-6e1e-49eb-878b-31059a126fa7",
   "metadata": {},
   "outputs": [
    {
     "name": "stdout",
     "output_type": "stream",
     "text": [
      "Hello Alice! You are 30 years old.\n"
     ]
    }
   ],
   "source": [
    "name = \"Alice\"\n",
    "age = 30\n",
    "print(\"Hello \"+name+\"! You are \"+str(age)+\" years old.\")"
   ]
  },
  {
   "cell_type": "markdown",
   "id": "a29e1686-f76a-4f1e-b355-4468866a7315",
   "metadata": {},
   "source": [
    "10. Increment and Decrement: Initialize a variable counter with the value 0. Increment it by 1 five times using the increment operator, then decrement it by 1 three times using the decrement operator. Print the final result."
   ]
  },
  {
   "cell_type": "code",
   "execution_count": null,
   "id": "a23cf235-92f5-4d7f-a116-ac10e0a622c0",
   "metadata": {},
   "outputs": [],
   "source": [
    "counter = 0\n",
    "counter += 1\n",
    "counter += 1\n",
    "counter += 1\n",
    "counter += 1\n",
    "counter += 1"
   ]
  }
 ],
 "metadata": {
  "kernelspec": {
   "display_name": "Python 3 (ipykernel)",
   "language": "python",
   "name": "python3"
  },
  "language_info": {
   "codemirror_mode": {
    "name": "ipython",
    "version": 3
   },
   "file_extension": ".py",
   "mimetype": "text/x-python",
   "name": "python",
   "nbconvert_exporter": "python",
   "pygments_lexer": "ipython3",
   "version": "3.9.13"
  }
 },
 "nbformat": 4,
 "nbformat_minor": 5
}
