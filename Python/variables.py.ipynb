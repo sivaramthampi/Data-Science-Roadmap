{
 "cells": [
  {
   "cell_type": "markdown",
   "id": "61fae458",
   "metadata": {},
   "source": [
    "<strong><h1><u>Variables</u></h1></strong>\n",
    "<p>In python, variables are categorised into multiple.<p>"
   ]
  },
  {
   "cell_type": "markdown",
   "id": "efb0a320-26e5-4cf9-bd72-3755e154bd1e",
   "metadata": {},
   "source": [
    "## Integer\n",
    "Stores Whole numbers \n",
    "eg: 1, 2, 200, -33"
   ]
  },
  {
   "cell_type": "code",
   "execution_count": 18,
   "id": "46602ff1-8672-45e3-bf86-5130bd0148b7",
   "metadata": {},
   "outputs": [
    {
     "name": "stdout",
     "output_type": "stream",
     "text": [
      "10\n"
     ]
    }
   ],
   "source": [
    "a = 10\n",
    "print(a)"
   ]
  },
  {
   "cell_type": "code",
   "execution_count": 19,
   "id": "f9801fc8-0de2-4ef6-bb3d-bfc7918d44b2",
   "metadata": {},
   "outputs": [
    {
     "name": "stdout",
     "output_type": "stream",
     "text": [
      "20\n"
     ]
    }
   ],
   "source": [
    "b = 20\n",
    "print(b)"
   ]
  },
  {
   "cell_type": "code",
   "execution_count": 20,
   "id": "a43c834a-bfe3-40a5-8ebf-7750795a944d",
   "metadata": {},
   "outputs": [
    {
     "name": "stdout",
     "output_type": "stream",
     "text": [
      "-300\n"
     ]
    }
   ],
   "source": [
    "c = -300\n",
    "print(c)"
   ]
  },
  {
   "cell_type": "markdown",
   "id": "071b0780-9f30-4729-bb39-69d47745b336",
   "metadata": {},
   "source": [
    "## Float\n",
    "Stores numbers with a decimal point, e.g., 3.14, -0.001, 2.71828"
   ]
  },
  {
   "cell_type": "code",
   "execution_count": 21,
   "id": "8e4dabd9-1f78-4ef1-802e-5f93dd958cc1",
   "metadata": {},
   "outputs": [
    {
     "name": "stdout",
     "output_type": "stream",
     "text": [
      "3.14\n"
     ]
    }
   ],
   "source": [
    "pi = 3.14\n",
    "print(pi)"
   ]
  },
  {
   "cell_type": "code",
   "execution_count": 22,
   "id": "92902bcd-6950-4efc-a451-23b22e1c194c",
   "metadata": {},
   "outputs": [
    {
     "name": "stdout",
     "output_type": "stream",
     "text": [
      "0.5\n"
     ]
    }
   ],
   "source": [
    "a = 0.5\n",
    "print(a)"
   ]
  },
  {
   "cell_type": "code",
   "execution_count": 23,
   "id": "d15e5834-1453-47d6-ae6f-d0c4fd8968b3",
   "metadata": {},
   "outputs": [
    {
     "name": "stdout",
     "output_type": "stream",
     "text": [
      "-1.15\n"
     ]
    }
   ],
   "source": [
    "a = -1.15\n",
    "print(a)"
   ]
  },
  {
   "cell_type": "markdown",
   "id": "36494536-ed5f-450c-bfc4-9140256c0c45",
   "metadata": {},
   "source": [
    "## Boolean\n",
    "Represents True or False, used for logical operations."
   ]
  },
  {
   "cell_type": "code",
   "execution_count": 35,
   "id": "c72a7beb-31ae-457d-987d-4dd37d09e8c9",
   "metadata": {},
   "outputs": [
    {
     "name": "stdout",
     "output_type": "stream",
     "text": [
      "True\n"
     ]
    }
   ],
   "source": [
    "a = True\n",
    "print(a)"
   ]
  },
  {
   "cell_type": "code",
   "execution_count": 36,
   "id": "4e726d26-8201-4e9d-8cc0-b767089c2aa4",
   "metadata": {},
   "outputs": [
    {
     "name": "stdout",
     "output_type": "stream",
     "text": [
      "False\n"
     ]
    }
   ],
   "source": [
    "a = False\n",
    "print(a)"
   ]
  },
  {
   "cell_type": "markdown",
   "id": "ae591bee-15c0-4277-99d6-90c3532d71b2",
   "metadata": {},
   "source": [
    "## String\n",
    "A sequence of characters, e.g., \"Hello, world!\", 'Python'. (In string we can use both single or double quotes)"
   ]
  },
  {
   "cell_type": "code",
   "execution_count": 37,
   "id": "8c6b1625-d58b-44fb-87eb-c40bafed782b",
   "metadata": {},
   "outputs": [
    {
     "name": "stdout",
     "output_type": "stream",
     "text": [
      "Hello world\n"
     ]
    }
   ],
   "source": [
    "a = \"Hello world\"\n",
    "print(a)"
   ]
  },
  {
   "cell_type": "code",
   "execution_count": 38,
   "id": "34495410-de60-4808-89f3-dc1c3a13a269",
   "metadata": {},
   "outputs": [
    {
     "name": "stdout",
     "output_type": "stream",
     "text": [
      "John Doe\n"
     ]
    }
   ],
   "source": [
    "a = 'John Doe'\n",
    "print(a)"
   ]
  },
  {
   "cell_type": "code",
   "execution_count": 39,
   "id": "883e845b-dd5f-4719-8cb2-d00539e2d5bc",
   "metadata": {},
   "outputs": [
    {
     "name": "stdout",
     "output_type": "stream",
     "text": [
      "A\n"
     ]
    }
   ],
   "source": [
    "a = 'A'\n",
    "print(a)"
   ]
  },
  {
   "cell_type": "markdown",
   "id": "e5d17704-d9a1-4203-8541-b3a47dc85a23",
   "metadata": {},
   "source": [
    "## List\n",
    "An ordered collection of items, which can be of mixed types, e.g., [1, 2, 3], ['a', 2, 3.5]"
   ]
  },
  {
   "cell_type": "code",
   "execution_count": 40,
   "id": "7cc244c0-c2c2-4bf5-8b11-d54194343308",
   "metadata": {},
   "outputs": [
    {
     "name": "stdout",
     "output_type": "stream",
     "text": [
      "[1, 2, 3, 4, 5]\n"
     ]
    }
   ],
   "source": [
    "a = [1, 2, 3, 4, 5]\n",
    "print(a)"
   ]
  },
  {
   "cell_type": "code",
   "execution_count": 43,
   "id": "fbcbbd82-b161-43eb-af95-280e19847b6b",
   "metadata": {},
   "outputs": [
    {
     "name": "stdout",
     "output_type": "stream",
     "text": [
      "[1, 2, 'Hello', 'world']\n"
     ]
    }
   ],
   "source": [
    "a = [1,2,\"Hello\",'world']\n",
    "print(a)"
   ]
  },
  {
   "cell_type": "code",
   "execution_count": 44,
   "id": "651cf0b9-77ad-441b-8efd-28aef700e0d7",
   "metadata": {},
   "outputs": [
    {
     "name": "stdout",
     "output_type": "stream",
     "text": [
      "[1.5, -10, 'a', True]\n"
     ]
    }
   ],
   "source": [
    "a = [1.5,-10,'a',True]\n",
    "print(a)"
   ]
  },
  {
   "cell_type": "markdown",
   "id": "a1997980-fe41-4982-9c21-a0eca247d5f0",
   "metadata": {},
   "source": [
    "## Tuple\n",
    "An ordered collection of items that is immutable (cannot be changed), e.g., (1, 2, 3), ('a', 2, 3.5)"
   ]
  },
  {
   "cell_type": "code",
   "execution_count": 46,
   "id": "1c0cfc2b-97b1-4967-af32-7d6931bd2bd4",
   "metadata": {},
   "outputs": [
    {
     "name": "stdout",
     "output_type": "stream",
     "text": [
      "(1, 2, 3, 4, 5)\n"
     ]
    }
   ],
   "source": [
    "a = (1, 2, 3, 4, 5)\n",
    "print(a)"
   ]
  },
  {
   "cell_type": "code",
   "execution_count": 47,
   "id": "b8c3f610-1dab-4849-a2f9-55b918d489ac",
   "metadata": {},
   "outputs": [
    {
     "name": "stdout",
     "output_type": "stream",
     "text": [
      "(1, 2, 'Hello', 'world')\n"
     ]
    }
   ],
   "source": [
    "a = (1,2,\"Hello\",'world')\n",
    "print(a)"
   ]
  },
  {
   "cell_type": "code",
   "execution_count": 48,
   "id": "73bffa16-b36b-4100-bdc6-efe6c024bf79",
   "metadata": {},
   "outputs": [
    {
     "name": "stdout",
     "output_type": "stream",
     "text": [
      "(1.5, -10, 'a', True)\n"
     ]
    }
   ],
   "source": [
    "a = (1.5,-10,'a',True)\n",
    "print(a)"
   ]
  },
  {
   "cell_type": "markdown",
   "id": "98b5e1f4-1822-4a7a-b408-3137770514a3",
   "metadata": {},
   "source": [
    "## Dictionary \n",
    "A collection of key-value pairs, e.g., {'name': 'Alice', 'age': 30}"
   ]
  },
  {
   "cell_type": "code",
   "execution_count": 57,
   "id": "119de4f0-3e29-43fd-a1ef-37f8886cd080",
   "metadata": {},
   "outputs": [
    {
     "name": "stdout",
     "output_type": "stream",
     "text": [
      "John\n",
      "Doe\n"
     ]
    }
   ],
   "source": [
    "a = {'Name':'John','Age':'Doe'}\n",
    "print(a['Name'])\n",
    "print(a['Age'])"
   ]
  },
  {
   "cell_type": "code",
   "execution_count": 58,
   "id": "e104d295-5faf-461e-9c8c-b10620bc484a",
   "metadata": {},
   "outputs": [
    {
     "name": "stdout",
     "output_type": "stream",
     "text": [
      "Hello\n",
      "World\n"
     ]
    }
   ],
   "source": [
    "a = {1:'Hello',2:'World'}\n",
    "print(a[1])\n",
    "print(a[2])"
   ]
  },
  {
   "cell_type": "code",
   "execution_count": 56,
   "id": "b6b326a7-4cf7-4ba0-ac48-5467eeed07cc",
   "metadata": {},
   "outputs": [
    {
     "name": "stdout",
     "output_type": "stream",
     "text": [
      "1.5\n",
      "3.5\n",
      "True\n",
      "-23\n",
      "Hello world\n"
     ]
    }
   ],
   "source": [
    "a = {1:1.5,2:3.5,3:True,4:-23,5:\"Hello world\"}\n",
    "print(a[1])\n",
    "print(a[2])\n",
    "print(a[3])\n",
    "print(a[4])\n",
    "print(a[5])"
   ]
  },
  {
   "cell_type": "markdown",
   "id": "e305e60f-903c-4b43-9436-2b111140aa9c",
   "metadata": {},
   "source": [
    "## Set  \n",
    "An unordered collection of unique items, e.g., {1, 2, 3}, {‘apple’, ‘banana’}"
   ]
  },
  {
   "cell_type": "code",
   "execution_count": 61,
   "id": "2621feea-5ddd-4479-ad46-5faf1f29e07b",
   "metadata": {},
   "outputs": [
    {
     "name": "stdout",
     "output_type": "stream",
     "text": [
      "{1, 2, 3, 4, 'Hello'}\n"
     ]
    }
   ],
   "source": [
    "a = {2,3,1,4,\"Hello\"}\n",
    "print(a)"
   ]
  },
  {
   "cell_type": "code",
   "execution_count": 62,
   "id": "d239454e-b155-469b-940f-5ab6eb226028",
   "metadata": {},
   "outputs": [
    {
     "name": "stdout",
     "output_type": "stream",
     "text": [
      "{1, 'Hello', 'World'}\n"
     ]
    }
   ],
   "source": [
    "a = {\"World\",\"Hello\", 1}\n",
    "print(a)"
   ]
  },
  {
   "cell_type": "code",
   "execution_count": 65,
   "id": "3de1a86e-3671-48de-98d9-3e520dcb150c",
   "metadata": {},
   "outputs": [
    {
     "name": "stdout",
     "output_type": "stream",
     "text": [
      "{True, -12, -21, 122, 11}\n"
     ]
    }
   ],
   "source": [
    "a = {-21,11,122,True,-12}\n",
    "print(a)"
   ]
  },
  {
   "cell_type": "markdown",
   "id": "7b605e98-53e1-487b-81ae-baf4b780e54a",
   "metadata": {},
   "source": [
    "## None  \n",
    "None (NoneType): Represents the absence of a value or a null value, e.g., None"
   ]
  },
  {
   "cell_type": "code",
   "execution_count": 67,
   "id": "cef4254c-b4b3-4f41-babd-12dbf40ba190",
   "metadata": {},
   "outputs": [
    {
     "name": "stdout",
     "output_type": "stream",
     "text": [
      "None\n"
     ]
    }
   ],
   "source": [
    "a = None\n",
    "print(a)"
   ]
  },
  {
   "cell_type": "code",
   "execution_count": 68,
   "id": "1fe8652f-da9c-4d70-8713-17c458adabd9",
   "metadata": {},
   "outputs": [
    {
     "name": "stdout",
     "output_type": "stream",
     "text": [
      "[1, 2, 3, 4, None]\n"
     ]
    }
   ],
   "source": [
    "a = [1,2,3,4,None]\n",
    "print(a)"
   ]
  },
  {
   "cell_type": "code",
   "execution_count": null,
   "id": "ab584c54-1ed0-44b0-bd9f-73497bc7581b",
   "metadata": {},
   "outputs": [],
   "source": [
    "a = [1,2,3,4,None)\n",
    "print(a)"
   ]
  }
 ],
 "metadata": {
  "kernelspec": {
   "display_name": "Python 3 (ipykernel)",
   "language": "python",
   "name": "python3"
  },
  "language_info": {
   "codemirror_mode": {
    "name": "ipython",
    "version": 3
   },
   "file_extension": ".py",
   "mimetype": "text/x-python",
   "name": "python",
   "nbconvert_exporter": "python",
   "pygments_lexer": "ipython3",
   "version": "3.9.13"
  }
 },
 "nbformat": 4,
 "nbformat_minor": 5
}
