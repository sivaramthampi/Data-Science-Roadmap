{
 "cells": [
  {
   "cell_type": "markdown",
   "id": "824a3acb-c9fb-4fbf-b791-6291243ed5fb",
   "metadata": {},
   "source": [
    "<h1 style=\"color:yellow;\">Arithmetic Operators </h1>"
   ]
  },
  {
   "cell_type": "markdown",
   "id": "ca033ab0-6f1c-40d7-9d29-cc96445a7993",
   "metadata": {},
   "source": [
    "### Addition (+)\n",
    "Adds two numbers."
   ]
  },
  {
   "cell_type": "code",
   "execution_count": 550,
   "id": "5a5e2434-066a-4e3b-94c1-b98df6680424",
   "metadata": {},
   "outputs": [
    {
     "name": "stdout",
     "output_type": "stream",
     "text": [
      "200\n"
     ]
    }
   ],
   "source": [
    "print(100+100)"
   ]
  },
  {
   "cell_type": "code",
   "execution_count": 551,
   "id": "489d0fb0-37ab-4cc8-9685-4bd805df0d42",
   "metadata": {},
   "outputs": [
    {
     "name": "stdout",
     "output_type": "stream",
     "text": [
      "25\n"
     ]
    }
   ],
   "source": [
    "a = 10\n",
    "b = 15\n",
    "print(a + b)"
   ]
  },
  {
   "cell_type": "code",
   "execution_count": 552,
   "id": "c789b8ba-b2e3-446c-a060-d40a3a975b0f",
   "metadata": {},
   "outputs": [
    {
     "name": "stdout",
     "output_type": "stream",
     "text": [
      "202\n"
     ]
    }
   ],
   "source": [
    "a = 200\n",
    "print(a + 2)"
   ]
  },
  {
   "cell_type": "markdown",
   "id": "3e9f34d6-61b1-417d-b2dd-6f960030626f",
   "metadata": {},
   "source": [
    "### Subtraction (-)\n",
    " Subtracts the second number from the first."
   ]
  },
  {
   "cell_type": "code",
   "execution_count": 553,
   "id": "5dadf6ae-3760-4145-916e-1beeac23e32b",
   "metadata": {},
   "outputs": [
    {
     "name": "stdout",
     "output_type": "stream",
     "text": [
      "10\n"
     ]
    }
   ],
   "source": [
    "print(20 - 10)"
   ]
  },
  {
   "cell_type": "code",
   "execution_count": 554,
   "id": "a7238ced-5a6a-4c86-a5fb-1997101c9003",
   "metadata": {},
   "outputs": [
    {
     "name": "stdout",
     "output_type": "stream",
     "text": [
      "5\n"
     ]
    }
   ],
   "source": [
    "a = 15\n",
    "b = 10\n",
    "print(a - b)"
   ]
  },
  {
   "cell_type": "code",
   "execution_count": 555,
   "id": "96901e80-c8dc-45ad-ae6a-a80ec93fdc0f",
   "metadata": {},
   "outputs": [
    {
     "name": "stdout",
     "output_type": "stream",
     "text": [
      "-3\n"
     ]
    }
   ],
   "source": [
    "a = 2\n",
    "print(a - 5)"
   ]
  },
  {
   "cell_type": "markdown",
   "id": "6f5e7c1a-56ae-44ab-989a-ecddbe376a76",
   "metadata": {},
   "source": [
    "### Multiplication (*)\n",
    "Multiplies two numbers."
   ]
  },
  {
   "cell_type": "code",
   "execution_count": 556,
   "id": "bd5a7f7c-1827-42cc-8d57-c8f992f4100b",
   "metadata": {},
   "outputs": [
    {
     "name": "stdout",
     "output_type": "stream",
     "text": [
      "25\n"
     ]
    }
   ],
   "source": [
    "print(5 * 5)"
   ]
  },
  {
   "cell_type": "code",
   "execution_count": 557,
   "id": "c7e0efac-6e43-4bb6-8a3a-6de09887b2ee",
   "metadata": {},
   "outputs": [
    {
     "name": "stdout",
     "output_type": "stream",
     "text": [
      "250\n"
     ]
    }
   ],
   "source": [
    "a = 5\n",
    "b = 2\n",
    "c = 25\n",
    "print(a * b * c)"
   ]
  },
  {
   "cell_type": "code",
   "execution_count": 558,
   "id": "35f6ea10-71ec-41aa-9634-0363e36b9c7b",
   "metadata": {},
   "outputs": [
    {
     "name": "stdout",
     "output_type": "stream",
     "text": [
      "24\n"
     ]
    }
   ],
   "source": [
    "a = 3\n",
    "b = 4\n",
    "print(a * b * 2)"
   ]
  },
  {
   "cell_type": "markdown",
   "id": "1f350a4a-2eb5-41cc-800e-a6c264213453",
   "metadata": {},
   "source": [
    "### Division (/)\n",
    "Divides the first number by the second, returning a float."
   ]
  },
  {
   "cell_type": "code",
   "execution_count": 559,
   "id": "c4f3c25f-2024-4854-9b75-31d160346580",
   "metadata": {},
   "outputs": [
    {
     "name": "stdout",
     "output_type": "stream",
     "text": [
      "5.0\n"
     ]
    }
   ],
   "source": [
    "print(20 / 4)"
   ]
  },
  {
   "cell_type": "code",
   "execution_count": 560,
   "id": "9100fa2f-889d-4763-8d6f-ec675f3c4b4b",
   "metadata": {},
   "outputs": [
    {
     "name": "stdout",
     "output_type": "stream",
     "text": [
      "5.0\n"
     ]
    }
   ],
   "source": [
    "a = 20\n",
    "b = 4\n",
    "print(a / b)"
   ]
  },
  {
   "cell_type": "code",
   "execution_count": 561,
   "id": "17000b0e-2409-40e9-a91e-2c6b44a33c67",
   "metadata": {},
   "outputs": [
    {
     "name": "stdout",
     "output_type": "stream",
     "text": [
      "2.0\n"
     ]
    }
   ],
   "source": [
    "a = 100\n",
    "print(a / 50)"
   ]
  },
  {
   "cell_type": "markdown",
   "id": "5f9d4bf3-dff6-448a-9670-49ed8a7ad4aa",
   "metadata": {},
   "source": [
    "### Floor Division \n",
    "Divides the first number by the second, returning the largest integer less than or equal to the result."
   ]
  },
  {
   "cell_type": "code",
   "execution_count": 562,
   "id": "5ff179ba-7177-4326-8ba6-6bdf3cf5f473",
   "metadata": {},
   "outputs": [
    {
     "name": "stdout",
     "output_type": "stream",
     "text": [
      "5\n"
     ]
    }
   ],
   "source": [
    "print(23 // 4)"
   ]
  },
  {
   "cell_type": "code",
   "execution_count": 563,
   "id": "19f3e953-008b-4be2-8d42-367255f933a6",
   "metadata": {},
   "outputs": [
    {
     "name": "stdout",
     "output_type": "stream",
     "text": [
      "2\n"
     ]
    }
   ],
   "source": [
    "a = 103\n",
    "b = 50\n",
    "print(a // b)"
   ]
  },
  {
   "cell_type": "code",
   "execution_count": 564,
   "id": "e55ab7fd-d691-4fc2-9281-133a9924d786",
   "metadata": {},
   "outputs": [
    {
     "name": "stdout",
     "output_type": "stream",
     "text": [
      "2\n"
     ]
    }
   ],
   "source": [
    "a = 100\n",
    "print(a // 50)"
   ]
  },
  {
   "cell_type": "markdown",
   "id": "7e1f7c4d-0f5b-4d0b-8ca8-4bf252f9dc61",
   "metadata": {},
   "source": [
    "### Modulus (%)\n",
    "Returns the remainder of the division of the first number by the second."
   ]
  },
  {
   "cell_type": "code",
   "execution_count": 565,
   "id": "d0cfb459-7431-4e92-850e-f1a9b89f9701",
   "metadata": {},
   "outputs": [
    {
     "name": "stdout",
     "output_type": "stream",
     "text": [
      "0\n"
     ]
    }
   ],
   "source": [
    "print(20 % 2)"
   ]
  },
  {
   "cell_type": "code",
   "execution_count": 566,
   "id": "9964e8f4-2625-4883-aeeb-0b3f116ac72e",
   "metadata": {},
   "outputs": [
    {
     "name": "stdout",
     "output_type": "stream",
     "text": [
      "1\n"
     ]
    }
   ],
   "source": [
    "a = 10\n",
    "b = 3\n",
    "print(a % b)"
   ]
  },
  {
   "cell_type": "code",
   "execution_count": 567,
   "id": "c636720d-065a-4bab-a59f-43b62dc7f8e3",
   "metadata": {},
   "outputs": [
    {
     "name": "stdout",
     "output_type": "stream",
     "text": [
      "0\n"
     ]
    }
   ],
   "source": [
    "a = 12\n",
    "print(a % 2)"
   ]
  },
  {
   "cell_type": "markdown",
   "id": "5eaf7598-871e-41fa-a772-c6c3d81ff066",
   "metadata": {},
   "source": [
    "### Exponentiation (**)\n",
    "Raises the first number to the power of the second."
   ]
  },
  {
   "cell_type": "code",
   "execution_count": 568,
   "id": "2577847d-9b55-4bbc-8186-140a743010cd",
   "metadata": {},
   "outputs": [
    {
     "name": "stdout",
     "output_type": "stream",
     "text": [
      "15625\n"
     ]
    }
   ],
   "source": [
    "print(25 ** 3)"
   ]
  },
  {
   "cell_type": "code",
   "execution_count": 569,
   "id": "3477ea47-bd26-48c7-b97d-c8a7bd83fc8f",
   "metadata": {},
   "outputs": [
    {
     "name": "stdout",
     "output_type": "stream",
     "text": [
      "25\n"
     ]
    }
   ],
   "source": [
    "a = 5\n",
    "b = 2\n",
    "print(a ** b)"
   ]
  },
  {
   "cell_type": "code",
   "execution_count": 570,
   "id": "20aabdba-c443-4b49-8b96-3ba881c63d94",
   "metadata": {},
   "outputs": [
    {
     "name": "stdout",
     "output_type": "stream",
     "text": [
      "3125\n"
     ]
    }
   ],
   "source": [
    "a = 5\n",
    "print(a ** 5)"
   ]
  },
  {
   "cell_type": "markdown",
   "id": "bb0fcf27-b20b-4712-a0ac-a86bf7cf6885",
   "metadata": {},
   "source": [
    "<h1 id=\"assignment-operators\" style=\"color:yellow;\">Assignment Operators </h1>"
   ]
  },
  {
   "cell_type": "markdown",
   "id": "1048c60f-d541-49c4-90dc-1614eaaa0f32",
   "metadata": {},
   "source": [
    "### Basic Assignment (=)"
   ]
  },
  {
   "cell_type": "code",
   "execution_count": 571,
   "id": "f3846f7b-6515-4b7e-a247-78840af87ed5",
   "metadata": {},
   "outputs": [
    {
     "name": "stdout",
     "output_type": "stream",
     "text": [
      "10\n"
     ]
    }
   ],
   "source": [
    "a = 10\n",
    "print(a)"
   ]
  },
  {
   "cell_type": "code",
   "execution_count": 572,
   "id": "013d5594-bb0f-4d20-9f13-b25003b38be9",
   "metadata": {},
   "outputs": [
    {
     "name": "stdout",
     "output_type": "stream",
     "text": [
      "5\n"
     ]
    }
   ],
   "source": [
    "a = 10\n",
    "a = 5\n",
    "print(a)"
   ]
  },
  {
   "cell_type": "code",
   "execution_count": 573,
   "id": "98ecdf87-8be1-46e4-98ca-39291af8aabc",
   "metadata": {},
   "outputs": [
    {
     "name": "stdout",
     "output_type": "stream",
     "text": [
      "20\n"
     ]
    }
   ],
   "source": [
    "b = 10 + 10\n",
    "print(b)"
   ]
  },
  {
   "cell_type": "markdown",
   "id": "2534c298-b9f2-46ed-8cd9-68f7ac3cf21f",
   "metadata": {},
   "source": [
    "### Addition Assignment (+=)"
   ]
  },
  {
   "cell_type": "code",
   "execution_count": 574,
   "id": "caa1fd47-9e98-4158-a9c6-1a6dbedb9f50",
   "metadata": {},
   "outputs": [
    {
     "name": "stdout",
     "output_type": "stream",
     "text": [
      "15\n"
     ]
    }
   ],
   "source": [
    "a = 10\n",
    "a += 5  # Equivalent to x = x + 5; x is now 15\n",
    "print(a)"
   ]
  },
  {
   "cell_type": "code",
   "execution_count": 575,
   "id": "eb0dfb81-5cac-49d2-9288-08a8c435de74",
   "metadata": {},
   "outputs": [
    {
     "name": "stdout",
     "output_type": "stream",
     "text": [
      "40\n"
     ]
    }
   ],
   "source": [
    "a = 10\n",
    "b = 30\n",
    "a += b\n",
    "print(a)"
   ]
  },
  {
   "cell_type": "code",
   "execution_count": 576,
   "id": "816d6c38-e72b-45fb-93d4-c504852ca136",
   "metadata": {},
   "outputs": [
    {
     "name": "stdout",
     "output_type": "stream",
     "text": [
      "50\n"
     ]
    }
   ],
   "source": [
    "a = 10\n",
    "b = 10\n",
    "a += b\n",
    "b += a\n",
    "print(a + b)"
   ]
  },
  {
   "cell_type": "markdown",
   "id": "a9427d89-3d2f-4f26-a9cc-4101ae223dfa",
   "metadata": {},
   "source": [
    "### Subtraction Assignment (-=)"
   ]
  },
  {
   "cell_type": "code",
   "execution_count": 577,
   "id": "d229805e-2475-4b06-abc1-51fb892c6a22",
   "metadata": {},
   "outputs": [
    {
     "name": "stdout",
     "output_type": "stream",
     "text": [
      "6\n"
     ]
    }
   ],
   "source": [
    "a = 10\n",
    "a -= 4 # Equivalent to x = x - 4; x is now 6\n",
    "print(a)"
   ]
  },
  {
   "cell_type": "code",
   "execution_count": 578,
   "id": "820c5aed-3351-4402-a1da-58e744bfa42d",
   "metadata": {},
   "outputs": [
    {
     "name": "stdout",
     "output_type": "stream",
     "text": [
      "-20\n"
     ]
    }
   ],
   "source": [
    "a = 10\n",
    "b = 30\n",
    "a -= b\n",
    "print(a)"
   ]
  },
  {
   "cell_type": "code",
   "execution_count": 579,
   "id": "95777935-c477-4f1b-8afb-3a13e9eb2df4",
   "metadata": {},
   "outputs": [
    {
     "name": "stdout",
     "output_type": "stream",
     "text": [
      "10\n"
     ]
    }
   ],
   "source": [
    "a = 10\n",
    "b = 10\n",
    "a += b\n",
    "b -= a\n",
    "print(a + b)"
   ]
  },
  {
   "cell_type": "markdown",
   "id": "c352352f-3796-46f0-9e45-19a61ee7cd50",
   "metadata": {},
   "source": [
    "### Multiplication Assignment (*=)"
   ]
  },
  {
   "cell_type": "code",
   "execution_count": 580,
   "id": "ea37d8df-bb5a-4d7e-a4ff-b3a8ca04130d",
   "metadata": {},
   "outputs": [
    {
     "name": "stdout",
     "output_type": "stream",
     "text": [
      "40\n"
     ]
    }
   ],
   "source": [
    "a = 10\n",
    "a *= 4 # Equivalent to x = x * 4; x is now 40\n",
    "print(a)"
   ]
  },
  {
   "cell_type": "code",
   "execution_count": 581,
   "id": "be768396-c6c4-4c6d-b32f-c3bc024cbc49",
   "metadata": {},
   "outputs": [
    {
     "name": "stdout",
     "output_type": "stream",
     "text": [
      "300\n"
     ]
    }
   ],
   "source": [
    "a = 10\n",
    "b = 30\n",
    "a *= b\n",
    "print(a)"
   ]
  },
  {
   "cell_type": "code",
   "execution_count": 582,
   "id": "c36e61c0-d1de-4505-b32c-17c9748c4b50",
   "metadata": {},
   "outputs": [
    {
     "name": "stdout",
     "output_type": "stream",
     "text": [
      "220\n"
     ]
    }
   ],
   "source": [
    "a = 10\n",
    "b = 10\n",
    "a += b\n",
    "b *= a\n",
    "print(a + b)"
   ]
  },
  {
   "cell_type": "markdown",
   "id": "396fd95f-fd47-4649-9e80-b29399ffcf98",
   "metadata": {},
   "source": [
    "### Division Assignment (/=)"
   ]
  },
  {
   "cell_type": "code",
   "execution_count": 583,
   "id": "7bd0431a-cf3b-4ffe-8a2d-348394e312ba",
   "metadata": {},
   "outputs": [
    {
     "name": "stdout",
     "output_type": "stream",
     "text": [
      "2.5\n"
     ]
    }
   ],
   "source": [
    "a = 10\n",
    "a /= 4 # Equivalent to x = x / 4; x is now 2.5\n",
    "print(a)"
   ]
  },
  {
   "cell_type": "code",
   "execution_count": 584,
   "id": "7a217e60-5aed-4aef-a843-e3027a266dcf",
   "metadata": {},
   "outputs": [
    {
     "name": "stdout",
     "output_type": "stream",
     "text": [
      "0.3333333333333333\n"
     ]
    }
   ],
   "source": [
    "a = 10\n",
    "b = 30\n",
    "a /= b\n",
    "print(a)"
   ]
  },
  {
   "cell_type": "code",
   "execution_count": 585,
   "id": "101699ad-8f92-48f1-b073-911ffe6861de",
   "metadata": {},
   "outputs": [
    {
     "name": "stdout",
     "output_type": "stream",
     "text": [
      "20.5\n"
     ]
    }
   ],
   "source": [
    "a = 10\n",
    "b = 10\n",
    "a += b\n",
    "b /= a\n",
    "print(a + b)"
   ]
  },
  {
   "cell_type": "markdown",
   "id": "206d5850-ed9d-42cb-b972-61e5ded27f93",
   "metadata": {},
   "source": [
    "## Floor Division Assignment (//=)"
   ]
  },
  {
   "cell_type": "code",
   "execution_count": 586,
   "id": "5fa14ed6-3c0e-4660-8623-7f071c53d37a",
   "metadata": {},
   "outputs": [
    {
     "name": "stdout",
     "output_type": "stream",
     "text": [
      "2\n"
     ]
    }
   ],
   "source": [
    "a = 10\n",
    "a //= 4 # Equivalent to x = x // 4; x is now 2\n",
    "print(a)"
   ]
  },
  {
   "cell_type": "code",
   "execution_count": 587,
   "id": "18a63465-c1bc-49a1-830b-1fc47eb4cf1b",
   "metadata": {},
   "outputs": [
    {
     "name": "stdout",
     "output_type": "stream",
     "text": [
      "0\n"
     ]
    }
   ],
   "source": [
    "a = 10\n",
    "b = 30\n",
    "a //= b\n",
    "print(a)"
   ]
  },
  {
   "cell_type": "code",
   "execution_count": 588,
   "id": "1a99593a-dc18-4134-b90b-bc3346b41cb1",
   "metadata": {},
   "outputs": [
    {
     "name": "stdout",
     "output_type": "stream",
     "text": [
      "20\n"
     ]
    }
   ],
   "source": [
    "a = 10\n",
    "b = 10\n",
    "a += b\n",
    "b //= a\n",
    "print(a + b)"
   ]
  },
  {
   "cell_type": "markdown",
   "id": "503626a1-aee3-410f-b445-51c943218ffa",
   "metadata": {},
   "source": [
    "### Modulus Assignment (%=)"
   ]
  },
  {
   "cell_type": "code",
   "execution_count": 589,
   "id": "67c96880-6f1e-463f-97a3-0bad0a9a378a",
   "metadata": {},
   "outputs": [
    {
     "name": "stdout",
     "output_type": "stream",
     "text": [
      "2\n"
     ]
    }
   ],
   "source": [
    "a = 10\n",
    "a %= 4 # Equivalent to x = x % 4; x is now 2\n",
    "print(a)"
   ]
  },
  {
   "cell_type": "code",
   "execution_count": 590,
   "id": "80221100-a929-492a-844f-07809a365592",
   "metadata": {},
   "outputs": [
    {
     "name": "stdout",
     "output_type": "stream",
     "text": [
      "10\n"
     ]
    }
   ],
   "source": [
    "a = 10\n",
    "b = 30\n",
    "a %= b\n",
    "print(a)"
   ]
  },
  {
   "cell_type": "code",
   "execution_count": 591,
   "id": "5ca70157-42e0-476a-a9eb-04077de3ae15",
   "metadata": {},
   "outputs": [
    {
     "name": "stdout",
     "output_type": "stream",
     "text": [
      "30\n"
     ]
    }
   ],
   "source": [
    "a = 10\n",
    "b = 10\n",
    "a += b\n",
    "b %= a\n",
    "print(a + b)"
   ]
  },
  {
   "cell_type": "markdown",
   "id": "de013f33-5537-4d09-b66f-6f809d83c39b",
   "metadata": {},
   "source": [
    "### Exponentiation Assignment (**=)"
   ]
  },
  {
   "cell_type": "code",
   "execution_count": 592,
   "id": "24aa9c18-33ff-471f-bfe2-ba8d1ead5e70",
   "metadata": {},
   "outputs": [
    {
     "name": "stdout",
     "output_type": "stream",
     "text": [
      "10000\n"
     ]
    }
   ],
   "source": [
    "a = 10\n",
    "a **= 4 # Equivalent to x = x ** 4; x is now 10000\n",
    "print(a)"
   ]
  },
  {
   "cell_type": "code",
   "execution_count": 593,
   "id": "0c6a487a-0011-4aa3-aaf1-2fe03338ed72",
   "metadata": {},
   "outputs": [
    {
     "name": "stdout",
     "output_type": "stream",
     "text": [
      "1000000000000000000000000000000\n"
     ]
    }
   ],
   "source": [
    "a = 10\n",
    "b = 30\n",
    "a **= b\n",
    "print(a)"
   ]
  },
  {
   "cell_type": "code",
   "execution_count": 594,
   "id": "5c56f32a-c803-4ddd-8599-aa9fa9cf42c4",
   "metadata": {},
   "outputs": [
    {
     "name": "stdout",
     "output_type": "stream",
     "text": [
      "100000000000000000020\n"
     ]
    }
   ],
   "source": [
    "a = 10\n",
    "b = 10\n",
    "a += b\n",
    "b **= a\n",
    "print(a + b)"
   ]
  },
  {
   "cell_type": "markdown",
   "id": "91d8b07c-721e-459d-aaa3-90ae9dc228fe",
   "metadata": {},
   "source": [
    "<h1 style=\"color:yellow;\">Unary Operators </h1>"
   ]
  },
  {
   "cell_type": "code",
   "execution_count": 595,
   "id": "ce3edc55-5a0f-463a-ae6e-c656cd1db2f7",
   "metadata": {},
   "outputs": [
    {
     "name": "stdout",
     "output_type": "stream",
     "text": [
      "5\n"
     ]
    }
   ],
   "source": [
    "x = +5  # x is 5\n",
    "print(x)"
   ]
  },
  {
   "cell_type": "code",
   "execution_count": 596,
   "id": "e79c88aa-b76e-418d-bb31-148f654d1c2a",
   "metadata": {},
   "outputs": [
    {
     "name": "stdout",
     "output_type": "stream",
     "text": [
      "-5\n"
     ]
    }
   ],
   "source": [
    "x = 5\n",
    "y = -x  # y is -5\n",
    "print(y)"
   ]
  },
  {
   "cell_type": "code",
   "execution_count": 597,
   "id": "93ec2924-8b77-419c-a892-1957619dc62e",
   "metadata": {},
   "outputs": [
    {
     "name": "stdout",
     "output_type": "stream",
     "text": [
      "False\n"
     ]
    }
   ],
   "source": [
    "a = True\n",
    "b = not a  # b is False\n",
    "print(b)"
   ]
  },
  {
   "cell_type": "markdown",
   "id": "d5c69206-ac95-4412-aff7-654fc97411dc",
   "metadata": {},
   "source": [
    "<h1 style=\"color:yellow;\">Relational Operators </h1>"
   ]
  },
  {
   "cell_type": "markdown",
   "id": "3eef7993-03be-4084-a38b-1949b297b0ec",
   "metadata": {
    "jp-MarkdownHeadingCollapsed": true
   },
   "source": [
    "### Equal to (==)\n",
    "Checks if two values are equal."
   ]
  },
  {
   "cell_type": "code",
   "execution_count": 598,
   "id": "0b709f37-8cd2-45a1-a6a4-9fe3503eb446",
   "metadata": {},
   "outputs": [
    {
     "name": "stdout",
     "output_type": "stream",
     "text": [
      "False\n"
     ]
    }
   ],
   "source": [
    "print(5 == 10)"
   ]
  },
  {
   "cell_type": "code",
   "execution_count": 599,
   "id": "0d2c5f71-f17a-4316-8b1f-680cf4008a62",
   "metadata": {},
   "outputs": [
    {
     "name": "stdout",
     "output_type": "stream",
     "text": [
      "False\n"
     ]
    }
   ],
   "source": [
    "a = 10\n",
    "b = 5\n",
    "print(a == b)"
   ]
  },
  {
   "cell_type": "code",
   "execution_count": 600,
   "id": "645fd577-e488-497a-9c98-d761eee73cbe",
   "metadata": {},
   "outputs": [
    {
     "name": "stdout",
     "output_type": "stream",
     "text": [
      "True\n"
     ]
    }
   ],
   "source": [
    "a = 10\n",
    "b = 5\n",
    "print(a == b + b)"
   ]
  },
  {
   "cell_type": "markdown",
   "id": "801bc89e-0083-4b0f-b141-dfe140b946e0",
   "metadata": {},
   "source": [
    "### Not equal to (!=)\n",
    "Checks if two values are not equal."
   ]
  },
  {
   "cell_type": "code",
   "execution_count": 601,
   "id": "30c6feeb-051c-4706-b014-0843fbe732ac",
   "metadata": {},
   "outputs": [
    {
     "name": "stdout",
     "output_type": "stream",
     "text": [
      "True\n"
     ]
    }
   ],
   "source": [
    "print(5 != 3)"
   ]
  },
  {
   "cell_type": "code",
   "execution_count": 602,
   "id": "2b9ea9b4-2dda-4258-9249-33512e5c703c",
   "metadata": {},
   "outputs": [
    {
     "name": "stdout",
     "output_type": "stream",
     "text": [
      "False\n"
     ]
    }
   ],
   "source": [
    "a = 10\n",
    "b = 10\n",
    "print(a != b)"
   ]
  },
  {
   "cell_type": "code",
   "execution_count": 603,
   "id": "ba75a2be-5d38-4589-8c93-d66862358f0e",
   "metadata": {},
   "outputs": [
    {
     "name": "stdout",
     "output_type": "stream",
     "text": [
      "False\n"
     ]
    }
   ],
   "source": [
    "a = 10 \n",
    "b = 2\n",
    "b += 5\n",
    "print(a + b != 17)"
   ]
  },
  {
   "cell_type": "markdown",
   "id": "1d86ed34-023a-4454-889a-2e5800791d58",
   "metadata": {},
   "source": [
    "### Greater than (>)\n",
    "Checks if the value on the left is greater than the value on the right."
   ]
  },
  {
   "cell_type": "code",
   "execution_count": 604,
   "id": "ec6df282-6086-4d57-a0db-2a3514b94d40",
   "metadata": {},
   "outputs": [
    {
     "name": "stdout",
     "output_type": "stream",
     "text": [
      "True\n"
     ]
    }
   ],
   "source": [
    "print(5 > 4)"
   ]
  },
  {
   "cell_type": "code",
   "execution_count": 605,
   "id": "050e087f-5df0-4f4e-b183-4dde0251a623",
   "metadata": {},
   "outputs": [
    {
     "name": "stdout",
     "output_type": "stream",
     "text": [
      "False\n"
     ]
    }
   ],
   "source": [
    "a = 10\n",
    "b = 20\n",
    "print(a > b)"
   ]
  },
  {
   "cell_type": "code",
   "execution_count": 606,
   "id": "90e31eb3-e7e0-4a22-b2bc-973de30a0c46",
   "metadata": {},
   "outputs": [
    {
     "name": "stdout",
     "output_type": "stream",
     "text": [
      "True\n"
     ]
    }
   ],
   "source": [
    "a = 20\n",
    "print(a + 10 > a)"
   ]
  },
  {
   "cell_type": "markdown",
   "id": "183068ef-6a13-4d54-8789-b36d5d0c985f",
   "metadata": {},
   "source": [
    "### Less than (<)\n",
    "Checks if the value on the left is less than the value on the right."
   ]
  },
  {
   "cell_type": "code",
   "execution_count": 607,
   "id": "902c3ffc-aa5a-45c6-8208-e891edf1061f",
   "metadata": {},
   "outputs": [
    {
     "name": "stdout",
     "output_type": "stream",
     "text": [
      "False\n"
     ]
    }
   ],
   "source": [
    "print(5 < 4)"
   ]
  },
  {
   "cell_type": "code",
   "execution_count": 608,
   "id": "e503b237-fea3-4fea-a7fb-cb9a2026c908",
   "metadata": {},
   "outputs": [
    {
     "name": "stdout",
     "output_type": "stream",
     "text": [
      "False\n"
     ]
    }
   ],
   "source": [
    "a = 10\n",
    "b = 7\n",
    "print(a < b)"
   ]
  },
  {
   "cell_type": "code",
   "execution_count": 609,
   "id": "c5009a4d-2585-4c76-86a9-c6b007e55a43",
   "metadata": {},
   "outputs": [
    {
     "name": "stdout",
     "output_type": "stream",
     "text": [
      "False\n"
     ]
    }
   ],
   "source": [
    "a = 20\n",
    "print(a + 10 < a)"
   ]
  },
  {
   "cell_type": "markdown",
   "id": "354f8f17-67c8-443d-bfb6-46236764ae0b",
   "metadata": {},
   "source": [
    "### Greater than or equal to (>=)\n",
    "Checks if the value on the left is greater than or equal to the value on the right."
   ]
  },
  {
   "cell_type": "code",
   "execution_count": 610,
   "id": "719c6df2-2e88-4337-86dd-8d4632e6e2b1",
   "metadata": {},
   "outputs": [
    {
     "name": "stdout",
     "output_type": "stream",
     "text": [
      "True\n"
     ]
    }
   ],
   "source": [
    "print(5 >= 5)"
   ]
  },
  {
   "cell_type": "code",
   "execution_count": 611,
   "id": "c23d532f-2cf6-4a68-8d19-dab27b9ce1a1",
   "metadata": {},
   "outputs": [
    {
     "name": "stdout",
     "output_type": "stream",
     "text": [
      "True\n"
     ]
    }
   ],
   "source": [
    "a = 10\n",
    "b = 11\n",
    "print(b >= a)"
   ]
  },
  {
   "cell_type": "code",
   "execution_count": 612,
   "id": "cf4181ec-0a16-499e-808c-0c091717e927",
   "metadata": {},
   "outputs": [
    {
     "name": "stdout",
     "output_type": "stream",
     "text": [
      "False\n"
     ]
    }
   ],
   "source": [
    "a = 10\n",
    "b = 20\n",
    "print(a >= b + a)"
   ]
  },
  {
   "cell_type": "markdown",
   "id": "470f973e-572d-4bad-aea6-45682b8ed3c4",
   "metadata": {},
   "source": [
    "### Less than or equal to (<=)\n",
    "Checks if the value on the left is less than or equal to the value on the right."
   ]
  },
  {
   "cell_type": "code",
   "execution_count": 613,
   "id": "223e263b-43f7-4ddb-be6f-f24978f06185",
   "metadata": {},
   "outputs": [
    {
     "name": "stdout",
     "output_type": "stream",
     "text": [
      "True\n"
     ]
    }
   ],
   "source": [
    "print(5 <= 5)"
   ]
  },
  {
   "cell_type": "code",
   "execution_count": 614,
   "id": "3a6971d3-ab40-4d20-9a27-2e3fffcb9895",
   "metadata": {},
   "outputs": [
    {
     "name": "stdout",
     "output_type": "stream",
     "text": [
      "False\n"
     ]
    }
   ],
   "source": [
    "a = 10\n",
    "b = 11\n",
    "print(b <= a)"
   ]
  },
  {
   "cell_type": "code",
   "execution_count": 615,
   "id": "17df451c-ceb9-49d6-b29f-ac35ab6edcf2",
   "metadata": {},
   "outputs": [
    {
     "name": "stdout",
     "output_type": "stream",
     "text": [
      "True\n"
     ]
    }
   ],
   "source": [
    "a = 10\n",
    "b = 20\n",
    "print(a <= b + a)"
   ]
  },
  {
   "cell_type": "markdown",
   "id": "0b2e1bd6-ab1a-4ed6-8aee-b7746cf18802",
   "metadata": {},
   "source": [
    "<h1 style=\"color:yellow;\">Logical Operators </h1>"
   ]
  },
  {
   "cell_type": "markdown",
   "id": "336aab71-59a2-469e-895f-40debd7ee235",
   "metadata": {},
   "source": [
    "### Logical AND (and)\n",
    "Returns True if both operands are True. Otherwise, it returns False"
   ]
  },
  {
   "cell_type": "code",
   "execution_count": 616,
   "id": "b2871b76-0e20-46f7-b3f9-24cafc9fdd9c",
   "metadata": {},
   "outputs": [
    {
     "name": "stdout",
     "output_type": "stream",
     "text": [
      "False\n"
     ]
    }
   ],
   "source": [
    "print(True and False)"
   ]
  },
  {
   "cell_type": "code",
   "execution_count": 617,
   "id": "7068db02-6713-4fe5-85a5-c6a0e67158ad",
   "metadata": {},
   "outputs": [
    {
     "name": "stdout",
     "output_type": "stream",
     "text": [
      "True\n"
     ]
    }
   ],
   "source": [
    "a = True\n",
    "b = True\n",
    "print(a and b)"
   ]
  },
  {
   "cell_type": "code",
   "execution_count": 618,
   "id": "96bdf74d-de6e-43f6-847e-e463205acbd1",
   "metadata": {},
   "outputs": [
    {
     "name": "stdout",
     "output_type": "stream",
     "text": [
      "True\n"
     ]
    }
   ],
   "source": [
    "a = 10\n",
    "b = 20\n",
    "c = (b > 5) and (b < 30) \n",
    "print(c)"
   ]
  },
  {
   "cell_type": "markdown",
   "id": "f00a3a6b-d315-416b-bcd2-32f9376aec38",
   "metadata": {},
   "source": [
    "### Logical OR (or)\n",
    "Returns True if at least one of the operands is True. It only returns False if both operands are False."
   ]
  },
  {
   "cell_type": "code",
   "execution_count": 619,
   "id": "49ab35c9-4b96-4db3-b70a-bed1fe86f71a",
   "metadata": {},
   "outputs": [
    {
     "name": "stdout",
     "output_type": "stream",
     "text": [
      "True\n"
     ]
    }
   ],
   "source": [
    "print(True or False)"
   ]
  },
  {
   "cell_type": "code",
   "execution_count": 620,
   "id": "c0bd8dae-5cf7-4646-ba03-1b51e24bd689",
   "metadata": {},
   "outputs": [
    {
     "name": "stdout",
     "output_type": "stream",
     "text": [
      "False\n"
     ]
    }
   ],
   "source": [
    "a = False\n",
    "b = False\n",
    "print(a or b)"
   ]
  },
  {
   "cell_type": "code",
   "execution_count": 621,
   "id": "18966ee6-f953-44af-8503-5066a9185235",
   "metadata": {},
   "outputs": [
    {
     "name": "stdout",
     "output_type": "stream",
     "text": [
      "True\n"
     ]
    }
   ],
   "source": [
    "a = 10\n",
    "b = 20\n",
    "c = (a < 5) or (b < 30)\n",
    "print(c)"
   ]
  },
  {
   "cell_type": "markdown",
   "id": "188bc5bd-a4d3-4405-8951-c76099bfe4c7",
   "metadata": {},
   "source": [
    "### Logical NOT (not)\n",
    "Inverts the boolean value of its operand. It returns True if the operand is False, and False if the operand is True"
   ]
  },
  {
   "cell_type": "code",
   "execution_count": 622,
   "id": "85cb958b-f75b-4375-bc0f-2bf1b124066d",
   "metadata": {},
   "outputs": [
    {
     "name": "stdout",
     "output_type": "stream",
     "text": [
      "False\n"
     ]
    }
   ],
   "source": [
    "print(not True)"
   ]
  },
  {
   "cell_type": "code",
   "execution_count": 623,
   "id": "9b18b079-5bb9-41c1-a518-6c5517082958",
   "metadata": {},
   "outputs": [
    {
     "name": "stdout",
     "output_type": "stream",
     "text": [
      "True\n"
     ]
    }
   ],
   "source": [
    "a = False\n",
    "print(not a)"
   ]
  },
  {
   "cell_type": "code",
   "execution_count": 624,
   "id": "11db86b5-396b-4eec-a9cf-4e61af18d183",
   "metadata": {},
   "outputs": [
    {
     "name": "stdout",
     "output_type": "stream",
     "text": [
      "False\n"
     ]
    }
   ],
   "source": [
    "a = 10\n",
    "c = not (a > 5)\n",
    "print(c)"
   ]
  }
 ],
 "metadata": {
  "kernelspec": {
   "display_name": "Python 3 (ipykernel)",
   "language": "python",
   "name": "python3"
  },
  "language_info": {
   "codemirror_mode": {
    "name": "ipython",
    "version": 3
   },
   "file_extension": ".py",
   "mimetype": "text/x-python",
   "name": "python",
   "nbconvert_exporter": "python",
   "pygments_lexer": "ipython3",
   "version": "3.9.13"
  }
 },
 "nbformat": 4,
 "nbformat_minor": 5
}
