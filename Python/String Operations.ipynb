{
 "cells": [
  {
   "cell_type": "markdown",
   "id": "e910e1f9-3dbb-430a-b11c-c6edc3bc4bae",
   "metadata": {},
   "source": [
    "<h1 style=\"color:yellow\">Basic String Operations</h1>"
   ]
  },
  {
   "cell_type": "markdown",
   "id": "6a0829ae-e16d-4533-b37c-9b32a42bad04",
   "metadata": {},
   "source": [
    "### 1. Creating Strings"
   ]
  },
  {
   "cell_type": "code",
   "execution_count": 13,
   "id": "8a7311fd-09ed-45f0-89e0-0674d40071df",
   "metadata": {},
   "outputs": [
    {
     "name": "stdout",
     "output_type": "stream",
     "text": [
      "Hello, world!\n"
     ]
    }
   ],
   "source": [
    "s = \"Hello, world!\"\n",
    "print(s)"
   ]
  },
  {
   "cell_type": "markdown",
   "id": "2fc3a6d3-6141-4f49-b3de-a6b7a251c1a6",
   "metadata": {},
   "source": [
    "### 2. Concatenation"
   ]
  },
  {
   "cell_type": "code",
   "execution_count": 14,
   "id": "393fe0fe-73bf-4397-91b7-71def59113e4",
   "metadata": {},
   "outputs": [
    {
     "name": "stdout",
     "output_type": "stream",
     "text": [
      "Hello, World\n"
     ]
    }
   ],
   "source": [
    "a = \"Hello\"\n",
    "b = \"World\"\n",
    "c = ','\n",
    "print(a + c + \" \" + b)"
   ]
  },
  {
   "cell_type": "markdown",
   "id": "9926fa3b-0567-492a-b330-f55616c8e3b4",
   "metadata": {},
   "source": [
    "### 3. Repetition"
   ]
  },
  {
   "cell_type": "code",
   "execution_count": 15,
   "id": "21ad9956-3576-4bb1-a7d3-bda96a1ae4ff",
   "metadata": {},
   "outputs": [
    {
     "name": "stdout",
     "output_type": "stream",
     "text": [
      "Hello Hello Hello \n"
     ]
    }
   ],
   "source": [
    "a = \"Hello \"\n",
    "print(a * 3)"
   ]
  },
  {
   "cell_type": "markdown",
   "id": "09e00ae3-27ce-419c-855e-1433b7ae6709",
   "metadata": {},
   "source": [
    "### 4. Indexing"
   ]
  },
  {
   "cell_type": "code",
   "execution_count": 16,
   "id": "67a82815-7f52-4929-a0fb-109c74c2b5cf",
   "metadata": {},
   "outputs": [
    {
     "name": "stdout",
     "output_type": "stream",
     "text": [
      "First character of a is = H\n"
     ]
    }
   ],
   "source": [
    "a = \"Hello\"\n",
    "print(\"First character of a is =\",a[0])"
   ]
  },
  {
   "cell_type": "markdown",
   "id": "5cbc0c30-4776-4b3f-acac-7335cc1d2378",
   "metadata": {},
   "source": [
    "### 5. Slicing"
   ]
  },
  {
   "cell_type": "code",
   "execution_count": 17,
   "id": "10c76ace-5c36-47fb-9c15-3f539ae90b27",
   "metadata": {},
   "outputs": [
    {
     "name": "stdout",
     "output_type": "stream",
     "text": [
      "Slicing of a is = el\n"
     ]
    }
   ],
   "source": [
    "a = \"Hello\"\n",
    "print(\"Slicing of a is =\",a[1:3])"
   ]
  },
  {
   "cell_type": "code",
   "execution_count": 18,
   "id": "c418c7a3-dc49-4d1b-b8a1-88a3b238a56b",
   "metadata": {},
   "outputs": [
    {
     "name": "stdout",
     "output_type": "stream",
     "text": [
      "Slicing of a is = ello\n"
     ]
    }
   ],
   "source": [
    "a = \"Hello\"\n",
    "print(\"Slicing of a is =\",a[1:])"
   ]
  },
  {
   "cell_type": "code",
   "execution_count": 19,
   "id": "38e1eaf1-95d5-44ad-b715-332f2f5d5630",
   "metadata": {},
   "outputs": [
    {
     "name": "stdout",
     "output_type": "stream",
     "text": [
      "Slicing of a is = He\n"
     ]
    }
   ],
   "source": [
    "a = \"Hello\"\n",
    "print(\"Slicing of a is =\",a[:2])"
   ]
  },
  {
   "cell_type": "markdown",
   "id": "36e7490e-51d4-4728-84b8-8dbdb64b58ab",
   "metadata": {},
   "source": [
    "### 6. Length"
   ]
  },
  {
   "cell_type": "code",
   "execution_count": 22,
   "id": "14a79b21-7a9f-40bf-918c-31c943adb77d",
   "metadata": {},
   "outputs": [
    {
     "name": "stdout",
     "output_type": "stream",
     "text": [
      "5\n"
     ]
    }
   ],
   "source": [
    "a = \"Hello\"\n",
    "length = len(a)\n",
    "print(length)"
   ]
  },
  {
   "cell_type": "code",
   "execution_count": 21,
   "id": "376eaabf-b438-4694-9d82-4d98d7734fc3",
   "metadata": {},
   "outputs": [
    {
     "name": "stdout",
     "output_type": "stream",
     "text": [
      "11\n"
     ]
    }
   ],
   "source": [
    "a = \"Hello World\"\n",
    "length = len(a)\n",
    "print(length)"
   ]
  },
  {
   "cell_type": "markdown",
   "id": "14a11bce-3c19-409a-a979-bee3237f12ae",
   "metadata": {},
   "source": [
    "<h1 style=\"color:yellow\">String Methods</h1>"
   ]
  },
  {
   "cell_type": "markdown",
   "id": "ba06e063-8c32-4a75-9398-d10c03732700",
   "metadata": {},
   "source": [
    "### 1. Upper and Lower Case"
   ]
  },
  {
   "cell_type": "code",
   "execution_count": 28,
   "id": "03502f03-a97e-4bb1-bbfd-a7b9c9ec6a9c",
   "metadata": {},
   "outputs": [
    {
     "name": "stdout",
     "output_type": "stream",
     "text": [
      "Lower = hello world\n",
      "Upper = HELLO WORLD\n"
     ]
    }
   ],
   "source": [
    "a = \"HeLlo WorLd\"\n",
    "Lower = a.lower()\n",
    "Upper = a.upper()\n",
    "print(\"Lower =\",Lower)\n",
    "print(\"Upper =\",Upper)"
   ]
  },
  {
   "cell_type": "markdown",
   "id": "1d7d2db2-dc9e-4d1f-a364-eae4473f043c",
   "metadata": {},
   "source": [
    "### 2. Title Case"
   ]
  },
  {
   "cell_type": "code",
   "execution_count": 29,
   "id": "34b27719-25ff-487e-a20e-f606c611a29a",
   "metadata": {},
   "outputs": [
    {
     "name": "stdout",
     "output_type": "stream",
     "text": [
      "Titled = Hello, World!\n"
     ]
    }
   ],
   "source": [
    "s = \"hello, world!\"\n",
    "title = s.title()\n",
    "print(\"Titled =\",title)"
   ]
  },
  {
   "cell_type": "markdown",
   "id": "15dd2dd1-5c40-44a6-a414-1ddb05b9b206",
   "metadata": {},
   "source": [
    "### 3. Strip Whitespace"
   ]
  },
  {
   "cell_type": "code",
   "execution_count": 30,
   "id": "9e7573c1-6d94-448a-acb4-d5e673899038",
   "metadata": {},
   "outputs": [
    {
     "name": "stdout",
     "output_type": "stream",
     "text": [
      "Stripped = Hello, World!\n"
     ]
    }
   ],
   "source": [
    "s = \"  Hello, World!  \"\n",
    "stripped = s.strip()\n",
    "print(\"Stripped =\",stripped)"
   ]
  },
  {
   "cell_type": "markdown",
   "id": "d2a4e999-33fe-4264-9287-5f2d10cfa42d",
   "metadata": {},
   "source": [
    "### 4. Find"
   ]
  },
  {
   "cell_type": "code",
   "execution_count": 35,
   "id": "1fc64931-5f26-4fa1-960a-34bf4b78e02f",
   "metadata": {},
   "outputs": [
    {
     "name": "stdout",
     "output_type": "stream",
     "text": [
      "Index of o = 4\n"
     ]
    }
   ],
   "source": [
    "a = \"Hello!\"\n",
    "index = a.find('o')\n",
    "print(\"Index of o =\",index)"
   ]
  },
  {
   "cell_type": "markdown",
   "id": "ba1e61ea-c59b-480c-b6e4-2fd5a181bc8f",
   "metadata": {},
   "source": [
    "### 5. Replace"
   ]
  },
  {
   "cell_type": "code",
   "execution_count": 36,
   "id": "5a573352-c807-4b07-9e6b-bcc0e78255c4",
   "metadata": {},
   "outputs": [
    {
     "name": "stdout",
     "output_type": "stream",
     "text": [
      "Replaced = Hello World!\n"
     ]
    }
   ],
   "source": [
    "a = \"Hi World!\"\n",
    "Replace = a.replace('Hi','Hello')\n",
    "print(\"Replaced =\",Replace)"
   ]
  },
  {
   "cell_type": "markdown",
   "id": "36964a21-f49a-42a3-ac0a-50326aeef93d",
   "metadata": {},
   "source": [
    "### 6. Splitting "
   ]
  },
  {
   "cell_type": "code",
   "execution_count": 37,
   "id": "b1a88763-dcac-436c-ae19-bb96d3f899d8",
   "metadata": {},
   "outputs": [
    {
     "name": "stdout",
     "output_type": "stream",
     "text": [
      "Split Words = ['Hello', 'Hi', 'Hey']\n"
     ]
    }
   ],
   "source": [
    "a = \"Hello Hi Hey\"\n",
    "split_words = a.split(' ')\n",
    "print(\"Split Words =\",split_words)"
   ]
  },
  {
   "cell_type": "markdown",
   "id": "4c5d12fa-db25-46c4-b371-8277cae41730",
   "metadata": {},
   "source": [
    "### 7. Joining"
   ]
  },
  {
   "cell_type": "code",
   "execution_count": 38,
   "id": "8a84c1a7-6a88-4988-929c-1693b5fbd193",
   "metadata": {},
   "outputs": [
    {
     "name": "stdout",
     "output_type": "stream",
     "text": [
      "Joined Words = Hello World !\n"
     ]
    }
   ],
   "source": [
    "a = [\"Hello\",\"World\",\"!\"]\n",
    "joined_words = \" \".join(a)\n",
    "print(\"Joined Words =\",joined_words)"
   ]
  },
  {
   "cell_type": "markdown",
   "id": "d1d6db90-9568-4991-8cbd-106c4bd3f5e7",
   "metadata": {},
   "source": [
    "### 8. Checking Membership"
   ]
  },
  {
   "cell_type": "code",
   "execution_count": 40,
   "id": "55094cc2-c08b-42ae-b323-3ec44563c8a5",
   "metadata": {},
   "outputs": [
    {
     "name": "stdout",
     "output_type": "stream",
     "text": [
      "Check if a contain the letter w =  True\n"
     ]
    }
   ],
   "source": [
    "a = \"Hello world!\"\n",
    "contains = \"world\" in a\n",
    "print(\"Check if a contain the letter w = \",contains)"
   ]
  },
  {
   "cell_type": "markdown",
   "id": "80939c0a-a089-4635-8d3d-41cda8ac84dd",
   "metadata": {},
   "source": [
    "### 9. Formatting"
   ]
  },
  {
   "cell_type": "code",
   "execution_count": 42,
   "id": "b9b5456e-6344-41cd-97d3-37c0fa56c8a1",
   "metadata": {},
   "outputs": [
    {
     "name": "stdout",
     "output_type": "stream",
     "text": [
      "Name is John Age is 20\n"
     ]
    }
   ],
   "source": [
    "Name = \"John\"\n",
    "Age = str(20)\n",
    "print(\"Name is \" + Name + \" Age is \"+ Age)"
   ]
  },
  {
   "cell_type": "code",
   "execution_count": 44,
   "id": "1d27dab9-acac-45ca-9a04-e7d42d6a80d3",
   "metadata": {},
   "outputs": [
    {
     "name": "stdout",
     "output_type": "stream",
     "text": [
      "Name is John Age is 20\n"
     ]
    }
   ],
   "source": [
    "Name = \"John\"\n",
    "Age = str(20)\n",
    "print(\"Name is\",Name,\"Age is\",Age)"
   ]
  },
  {
   "cell_type": "code",
   "execution_count": 45,
   "id": "3260ff55-eb6f-4425-a287-893f45639c9e",
   "metadata": {},
   "outputs": [
    {
     "name": "stdout",
     "output_type": "stream",
     "text": [
      "Name is John Age is 20\n"
     ]
    }
   ],
   "source": [
    "Name = \"John\"\n",
    "Age = str(20)\n",
    "print(f\"Name is {Name} Age is {Age}\")"
   ]
  },
  {
   "cell_type": "markdown",
   "id": "5b95362a-33c9-41bd-bae9-deb8c103f16a",
   "metadata": {},
   "source": [
    "### 10. Checking Type"
   ]
  },
  {
   "cell_type": "code",
   "execution_count": 49,
   "id": "d1a723de-a22f-4fb1-8ef7-1cc87f843931",
   "metadata": {},
   "outputs": [
    {
     "name": "stdout",
     "output_type": "stream",
     "text": [
      "Is a contains all alphabets = True\n",
      "Is a contains all digits = False\n",
      "Is b contains all alphabets = False\n",
      "Is b contains all digits = True\n"
     ]
    }
   ],
   "source": [
    "a = \"Hello\"\n",
    "b = \"1234\"\n",
    "is_alpha_a = a.isalpha() \n",
    "is_digits_a = a.isdigit()\n",
    "is_alpha_b = b.isalpha() \n",
    "is_digits_b = b.isdigit() \n",
    "print(\"Is a contains all alphabets =\",is_alpha_a)\n",
    "print(\"Is a contains all digits =\",is_digits_a)\n",
    "print(\"Is b contains all alphabets =\",is_alpha_b)\n",
    "print(\"Is b contains all digits =\",is_digits_b)"
   ]
  }
 ],
 "metadata": {
  "kernelspec": {
   "display_name": "Python 3 (ipykernel)",
   "language": "python",
   "name": "python3"
  },
  "language_info": {
   "codemirror_mode": {
    "name": "ipython",
    "version": 3
   },
   "file_extension": ".py",
   "mimetype": "text/x-python",
   "name": "python",
   "nbconvert_exporter": "python",
   "pygments_lexer": "ipython3",
   "version": "3.9.13"
  }
 },
 "nbformat": 4,
 "nbformat_minor": 5
}
