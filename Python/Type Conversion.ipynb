{
 "cells": [
  {
   "cell_type": "markdown",
   "id": "e33b6328-7442-48c3-a7a8-cbf48d795726",
   "metadata": {},
   "source": [
    "<h1><u>Type Conversion</u></h1>\n",
    "In Python, type conversions (also known as type casting) involve converting a value from one data type to another"
   ]
  },
  {
   "cell_type": "markdown",
   "id": "9e8ec546-f1a7-4676-bda7-430c5ebbaf24",
   "metadata": {},
   "source": [
    "<h3 style=\"color:Yellow;\">Int()</h3>\n",
    "Converts a value to an integer."
   ]
  },
  {
   "cell_type": "code",
   "execution_count": 19,
   "id": "1b1e18e1-641c-46f3-98de-b8504718a780",
   "metadata": {},
   "outputs": [
    {
     "name": "stdout",
     "output_type": "stream",
     "text": [
      "Value of x after conversion = 3\n",
      "Value of y after conversion = 42\n",
      "Type of x after conversion = <class 'int'>\n",
      "Type of y after conversion = <class 'int'>\n"
     ]
    }
   ],
   "source": [
    "x = 3.14\n",
    "y = \"42\"\n",
    "x = int(x)\n",
    "y = int(y)\n",
    "print(\"Value of x after conversion =\",x)\n",
    "print(\"Value of y after conversion =\",y)\n",
    "print(\"Type of x after conversion =\",type(x))\n",
    "print(\"Type of y after conversion =\",type(y))"
   ]
  },
  {
   "cell_type": "markdown",
   "id": "b90afc77-a852-4445-a674-7ca78cdb781b",
   "metadata": {},
   "source": [
    "<h3 style=\"color:Yellow;\">float()</h3>\n",
    "Converts a value to a floating-point number."
   ]
  },
  {
   "cell_type": "code",
   "execution_count": 20,
   "id": "6301e536-c7de-4637-8c07-19d10fca87aa",
   "metadata": {},
   "outputs": [
    {
     "name": "stdout",
     "output_type": "stream",
     "text": [
      "Value of x after conversion = 5.0\n",
      "Value of y after conversion = 2.5\n",
      "Type of x after conversion = <class 'float'>\n",
      "Type of y after conversion = <class 'float'>\n"
     ]
    }
   ],
   "source": [
    "x = 5\n",
    "y = \"2.5\"\n",
    "x = float(x)\n",
    "y = float(y)\n",
    "print(\"Value of x after conversion =\",x)\n",
    "print(\"Value of y after conversion =\",y)\n",
    "print(\"Type of x after conversion =\",type(x))\n",
    "print(\"Type of y after conversion =\",type(y))"
   ]
  },
  {
   "cell_type": "markdown",
   "id": "06676da6-fb9c-400b-bbf4-21726787f19f",
   "metadata": {},
   "source": [
    "<h3 style=\"color:Yellow;\">str()</h3>\n",
    "Converts a value to a string."
   ]
  },
  {
   "cell_type": "code",
   "execution_count": 21,
   "id": "ff622f94-3492-49fb-9136-60c8681060b3",
   "metadata": {},
   "outputs": [
    {
     "name": "stdout",
     "output_type": "stream",
     "text": [
      "Value of x after conversion = 5\n",
      "Value of y after conversion = 200\n",
      "Type of x after conversion = <class 'str'>\n",
      "Type of y after conversion = <class 'str'>\n"
     ]
    }
   ],
   "source": [
    "x = 5\n",
    "y = 200\n",
    "x = str(x)\n",
    "y = str(y)\n",
    "print(\"Value of x after conversion =\",x)\n",
    "print(\"Value of y after conversion =\",y)\n",
    "print(\"Type of x after conversion =\",type(x))\n",
    "print(\"Type of y after conversion =\",type(y))"
   ]
  },
  {
   "cell_type": "markdown",
   "id": "ddf1203d-7b7b-4f27-aeea-12f859b747f9",
   "metadata": {},
   "source": [
    "<h3 style=\"color:Yellow;\">bool()</h3>\n",
    "Converts a value to a boolean."
   ]
  },
  {
   "cell_type": "code",
   "execution_count": 22,
   "id": "1016d99f-ef65-441e-9899-881940313217",
   "metadata": {},
   "outputs": [
    {
     "name": "stdout",
     "output_type": "stream",
     "text": [
      "Value of x after conversion = True\n",
      "Value of y after conversion = False\n",
      "Value of z after conversion = False\n",
      "Value of k after conversion = True\n",
      "Type of x after conversion = <class 'bool'>\n",
      "Type of y after conversion = <class 'bool'>\n",
      "Type of y after conversion = <class 'bool'>\n",
      "Type of y after conversion = <class 'bool'>\n"
     ]
    }
   ],
   "source": [
    "x = 1\n",
    "y = 0\n",
    "z = \"\"\n",
    "k = \"Hello\"\n",
    "x = bool(x)\n",
    "y = bool(y)\n",
    "z = bool(z)\n",
    "k = bool(k)\n",
    "print(\"Value of x after conversion =\",x)\n",
    "print(\"Value of y after conversion =\",y)\n",
    "print(\"Value of z after conversion =\",z)\n",
    "print(\"Value of k after conversion =\",k)\n",
    "print(\"Type of x after conversion =\",type(x))\n",
    "print(\"Type of y after conversion =\",type(y))\n",
    "print(\"Type of y after conversion =\",type(z))\n",
    "print(\"Type of y after conversion =\",type(k))"
   ]
  },
  {
   "cell_type": "markdown",
   "id": "28285a86-e4b2-4447-b0a6-569c4e820096",
   "metadata": {},
   "source": [
    "<h3 style=\"color:Yellow;\">list()</h3>\n",
    "Converts an iterable (like a tuple or string) to a list."
   ]
  },
  {
   "cell_type": "code",
   "execution_count": 23,
   "id": "3137aebd-3411-4b53-a0bb-37ec52c27405",
   "metadata": {},
   "outputs": [
    {
     "name": "stdout",
     "output_type": "stream",
     "text": [
      "Value of x after conversion = [1, 2, 3, 4, 5]\n",
      "Value of y after conversion = ['a', 'b', 'c', 'd']\n",
      "Type of x after conversion = <class 'list'>\n",
      "Type of y after conversion = <class 'list'>\n"
     ]
    }
   ],
   "source": [
    "x = [1, 2, 3, 4, 5]\n",
    "y = ('a', 'b', 'c', 'd')\n",
    "x = list(x)\n",
    "y = list(y)\n",
    "print(\"Value of x after conversion =\",x)\n",
    "print(\"Value of y after conversion =\",y)\n",
    "print(\"Type of x after conversion =\",type(x))\n",
    "print(\"Type of y after conversion =\",type(y))"
   ]
  },
  {
   "cell_type": "markdown",
   "id": "084f1013-ab02-4fda-a489-ac62cc9f406b",
   "metadata": {},
   "source": [
    "<h3 style=\"color:Yellow;\">tuple()</h3>\n",
    "Converts an iterable to a tuple."
   ]
  },
  {
   "cell_type": "code",
   "execution_count": 24,
   "id": "059c4493-69f9-4808-b016-360160ec08d9",
   "metadata": {},
   "outputs": [
    {
     "name": "stdout",
     "output_type": "stream",
     "text": [
      "Value of x after conversion = (1, 2, 3, 4, 5)\n",
      "Value of y after conversion = ('a', 'b', 'c', 'd')\n",
      "Type of x after conversion = <class 'tuple'>\n",
      "Type of y after conversion = <class 'tuple'>\n"
     ]
    }
   ],
   "source": [
    "x = [1, 2, 3, 4, 5]\n",
    "y = ['a', 'b', 'c', 'd']\n",
    "x = tuple(x)\n",
    "y = tuple(y)\n",
    "print(\"Value of x after conversion =\",x)\n",
    "print(\"Value of y after conversion =\",y)\n",
    "print(\"Type of x after conversion =\",type(x))\n",
    "print(\"Type of y after conversion =\",type(y))"
   ]
  },
  {
   "cell_type": "markdown",
   "id": "0468e72c-2697-4864-9f46-46d841861c7c",
   "metadata": {},
   "source": [
    "<h3 style=\"color:Yellow;\">set()</h3>\n",
    "Converts an iterable to a set, which removes duplicates."
   ]
  },
  {
   "cell_type": "code",
   "execution_count": 25,
   "id": "5b2cf7d8-0cc5-422a-93ca-440b00b4db3d",
   "metadata": {},
   "outputs": [
    {
     "name": "stdout",
     "output_type": "stream",
     "text": [
      "Value of x after conversion = {1, 2, 3, 4, 5}\n",
      "Value of y after conversion = {'b', 'a', 'c', 'd'}\n",
      "Type of x after conversion = <class 'set'>\n",
      "Type of y after conversion = <class 'set'>\n"
     ]
    }
   ],
   "source": [
    "x = [1, 2, 3, 4, 5]\n",
    "y = ('a', 'b', 'c', 'd')\n",
    "x = set(x)\n",
    "y = set(y)\n",
    "print(\"Value of x after conversion =\",x)\n",
    "print(\"Value of y after conversion =\",y)\n",
    "print(\"Type of x after conversion =\",type(x))\n",
    "print(\"Type of y after conversion =\",type(y))"
   ]
  },
  {
   "cell_type": "markdown",
   "id": "4a7e8acd-a602-4c90-a608-bbd73e81ea62",
   "metadata": {},
   "source": [
    "<h3 style=\"color:Yellow;\">dict()</h3>\n",
    "Converts an iterable to a tuple."
   ]
  },
  {
   "cell_type": "code",
   "execution_count": 26,
   "id": "c12b5685-4c61-4470-bb14-b00688825260",
   "metadata": {},
   "outputs": [
    {
     "name": "stdout",
     "output_type": "stream",
     "text": [
      "Value of x after conversion = {1: 2, 3: 4, 5: 7}\n",
      "Value of y after conversion = {'a': 'b', 'c': 'd'}\n",
      "Type of x after conversion = <class 'dict'>\n",
      "Type of y after conversion = <class 'dict'>\n"
     ]
    }
   ],
   "source": [
    "x = [(1, 2), (3, 4), (5, 7)]\n",
    "y = (('a', 'b'), ('c', 'd'))\n",
    "x = dict(x)\n",
    "y = dict(y)\n",
    "print(\"Value of x after conversion =\",x)\n",
    "print(\"Value of y after conversion =\",y)\n",
    "print(\"Type of x after conversion =\",type(x))\n",
    "print(\"Type of y after conversion =\",type(y))"
   ]
  },
  {
   "cell_type": "markdown",
   "id": "979b13c8-31b4-4ea6-aef3-1697b7716979",
   "metadata": {},
   "source": [
    "## Special Cases\n",
    "Converting Between Different Numeric Types: Python handles this implicitly. For instance, operations between integers and floats will result in a float."
   ]
  },
  {
   "cell_type": "code",
   "execution_count": 28,
   "id": "fbfaa368-42eb-4aea-890a-dbd6f4966883",
   "metadata": {},
   "outputs": [
    {
     "name": "stdout",
     "output_type": "stream",
     "text": [
      "8.2\n"
     ]
    }
   ],
   "source": [
    "x = 5 + 3.2  # x will be 8.2 (float)\n",
    "print(x)"
   ]
  },
  {
   "cell_type": "markdown",
   "id": "eee30c17-21ca-4912-952e-7697976dfdf2",
   "metadata": {},
   "source": [
    "If we try to convert a character string to int the function will fail"
   ]
  },
  {
   "cell_type": "code",
   "execution_count": 29,
   "id": "fb75b6df-4c2a-4d8c-961b-8d2d35e77354",
   "metadata": {},
   "outputs": [
    {
     "ename": "ValueError",
     "evalue": "invalid literal for int() with base 10: 'Hello'",
     "output_type": "error",
     "traceback": [
      "\u001b[1;31m---------------------------------------------------------------------------\u001b[0m",
      "\u001b[1;31mValueError\u001b[0m                                Traceback (most recent call last)",
      "Cell \u001b[1;32mIn[29], line 2\u001b[0m\n\u001b[0;32m      1\u001b[0m x \u001b[38;5;241m=\u001b[39m \u001b[38;5;124m\"\u001b[39m\u001b[38;5;124mHello\u001b[39m\u001b[38;5;124m\"\u001b[39m\n\u001b[1;32m----> 2\u001b[0m x \u001b[38;5;241m=\u001b[39m \u001b[38;5;28;43mint\u001b[39;49m\u001b[43m(\u001b[49m\u001b[43mx\u001b[49m\u001b[43m)\u001b[49m\n\u001b[0;32m      3\u001b[0m \u001b[38;5;28mprint\u001b[39m(x)\n",
      "\u001b[1;31mValueError\u001b[0m: invalid literal for int() with base 10: 'Hello'"
     ]
    }
   ],
   "source": [
    "x = \"Hello\"\n",
    "x = int(x)\n",
    "print(x)"
   ]
  }
 ],
 "metadata": {
  "kernelspec": {
   "display_name": "Python 3 (ipykernel)",
   "language": "python",
   "name": "python3"
  },
  "language_info": {
   "codemirror_mode": {
    "name": "ipython",
    "version": 3
   },
   "file_extension": ".py",
   "mimetype": "text/x-python",
   "name": "python",
   "nbconvert_exporter": "python",
   "pygments_lexer": "ipython3",
   "version": "3.9.13"
  }
 },
 "nbformat": 4,
 "nbformat_minor": 5
}
